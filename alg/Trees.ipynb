{
 "metadata": {
  "name": "",
  "signature": "sha256:c1abbef9e0530a87c8e94b78048371d1ee7831b63d6c7ce5ff00c739d82e24b5"
 },
 "nbformat": 3,
 "nbformat_minor": 0,
 "worksheets": [
  {
   "cells": [
    {
     "cell_type": "markdown",
     "metadata": {},
     "source": [
      "> We'll start with defining Tree class."
     ]
    },
    {
     "cell_type": "code",
     "collapsed": false,
     "input": [
      "class Tree(object):\n",
      "    \"\"\"\n",
      "    A Tree class where root can be any object, just like \n",
      "    a list. We'll most likely have it as char or a number.\n",
      "    We'll initiate the tree with no left/right children, but\n",
      "    when needed they will also be represented by the Tree class.\n",
      "    Making them sub trees.\n",
      "    \"\"\"\n",
      "    \n",
      "    def __init__(self, root):\n",
      "        self.key = root\n",
      "        self.leftChild = None\n",
      "        self.rightChild = None\n",
      "    \n",
      "    def insert_left_child( self, node ):\n",
      "        # function to insert a left child to a \n",
      "        # given node.\n",
      "        if self.leftChild == None:\n",
      "            # If no left child is present insert it\n",
      "            self.leftChild = Tree(node)\n",
      "        else:\n",
      "            # If there is a left child already present, make the\n",
      "            # new one the left child and append the existing left \n",
      "            # child to the new left child.\n",
      "            temp = Tree(node)\n",
      "            temp.leftChild = self.leftChild\n",
      "            self.leftChild = temp\n",
      "            \n",
      "    def insert_right_child( self, node ):\n",
      "        # function to insert a right child to a \n",
      "        # given node. Similar to insert_left_child\n",
      "        # function defined above.\n",
      "        if self.rightChild == None:\n",
      "            self.rightChild = Tree(node)\n",
      "        else:\n",
      "            temp = Tree(node)\n",
      "            temp.rightChild = self.rightChild\n",
      "            self.rightChild = temp\n",
      "\n",
      "# Build a sample tree            \n",
      "sampleTree = Tree('a')\n",
      "sampleTree.insert_left_child('b')\n",
      "sampleTree.insert_right_child('c')\n",
      "sampleTree.rightChild.key = 'c2'"
     ],
     "language": "python",
     "metadata": {},
     "outputs": [],
     "prompt_number": 5
    },
    {
     "cell_type": "code",
     "collapsed": false,
     "input": [],
     "language": "python",
     "metadata": {},
     "outputs": []
    }
   ],
   "metadata": {}
  }
 ]
}