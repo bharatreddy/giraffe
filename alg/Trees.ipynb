{
 "metadata": {
  "name": "",
  "signature": "sha256:bbabc9fdefabbffddf1a3fb73e73660a044ef413fa0ccc71b544507cce3b76a5"
 },
 "nbformat": 3,
 "nbformat_minor": 0,
 "worksheets": [
  {
   "cells": [
    {
     "cell_type": "markdown",
     "metadata": {},
     "source": [
      "> We'll start with defining Tree class."
     ]
    },
    {
     "cell_type": "code",
     "collapsed": false,
     "input": [
      "class Tree(object):\n",
      "    \"\"\"\n",
      "    A Tree class where root can be any object, just like \n",
      "    a list. We'll most likely have it as char or a number.\n",
      "    We'll initiate the tree with no left/right children, but\n",
      "    when needed they will also be represented by the Tree class.\n",
      "    Making them sub trees.\n",
      "    \"\"\"\n",
      "    \n",
      "    def __init__(self, root):\n",
      "        self.key = root\n",
      "        self.leftChild = None\n",
      "        self.rightChild = None\n",
      "    \n",
      "    def insert_left_child( self, node ):\n",
      "        # function to insert a left child to a \n",
      "        # given node.\n",
      "        if self.leftChild == None:\n",
      "            # If no left child is present insert it\n",
      "            self.leftChild = Tree(node)\n",
      "        else:\n",
      "            # If there is a left child already present, make the\n",
      "            # new one the left child and append the existing left \n",
      "            # child to the new left child.\n",
      "            temp = Tree(node)\n",
      "            temp.leftChild = self.leftChild\n",
      "            self.leftChild = temp\n",
      "            \n",
      "    def insert_right_child( self, node ):\n",
      "        # function to insert a right child to a \n",
      "        # given node. Similar to insert_left_child\n",
      "        # function defined above.\n",
      "        if self.rightChild == None:\n",
      "            self.rightChild = Tree(node)\n",
      "        else:\n",
      "            temp = Tree(node)\n",
      "            temp.rightChild = self.rightChild\n",
      "            self.rightChild = temp\n",
      "\n",
      "    def preorder_traversal( self ):\n",
      "        # Function to do a preorder traversal of the \n",
      "        # tree, root-->leftchild-->rightchild\n",
      "        print self.key\n",
      "        if self.leftChild is not None:\n",
      "            self.leftChild.preorder_traversal()\n",
      "        if self.rightChild is not None:\n",
      "            self.rightChild.preorder_traversal()\n",
      "            \n",
      "    def postorder_traversal( self ):\n",
      "        # Function to do a postorder traversal of the \n",
      "        # tree, leftchild-->rightchild-->root\n",
      "        if self.leftChild is not None:\n",
      "            self.leftChild.postorder_traversal()\n",
      "        if self.rightChild is not None:\n",
      "            self.rightChild.postorder_traversal()\n",
      "        print self.key\n",
      "        \n",
      "    def inorder_traversal( self ):\n",
      "        # Function to do a postorder traversal of the \n",
      "        # tree, leftchild-->rightchild-->root\n",
      "        if self.leftChild is not None:\n",
      "            self.leftChild.postorder_traversal()\n",
      "        print self.key\n",
      "        if self.rightChild is not None:\n",
      "            self.rightChild.postorder_traversal()"
     ],
     "language": "python",
     "metadata": {},
     "outputs": [],
     "prompt_number": 10
    },
    {
     "cell_type": "code",
     "collapsed": false,
     "input": [
      "# Build a sample tree and traverse\n",
      "sampleTree = Tree('a')\n",
      "sampleTree.insert_left_child('b')\n",
      "sampleTree.insert_right_child('c')\n",
      "print \"preorder traversal :\"\n",
      "sampleTree.preorder_traversal()\n",
      "print \"-------------------\"\n",
      "print \"postorder traversal :\"\n",
      "sampleTree.postorder_traversal()\n",
      "print \"-------------------\"\n",
      "print \"inorder traversal :\"\n",
      "sampleTree.inorder_traversal()\n",
      "print \"-------------------\""
     ],
     "language": "python",
     "metadata": {},
     "outputs": [
      {
       "output_type": "stream",
       "stream": "stdout",
       "text": [
        "preorder traversal :\n",
        "a\n",
        "b\n",
        "c\n",
        "-------------------\n",
        "postorder traversal :\n",
        "b\n",
        "c\n",
        "a\n",
        "-------------------\n",
        "inorder traversal :\n",
        "b\n",
        "a\n",
        "c\n",
        "-------------------\n"
       ]
      }
     ],
     "prompt_number": 11
    },
    {
     "cell_type": "markdown",
     "metadata": {},
     "source": [
      "> Given a binary tree, print elements level by level. Example:\n",
      ">> 1 \n",
      "\n",
      ">>/\\ \n",
      "\n",
      ">>2      3 \n",
      "\n",
      ">>/\\     /\\\n",
      "\n",
      ">>4 5    6 7\n",
      "\n",
      ">>print :\n",
      "\n",
      ">>1\n",
      "\n",
      ">>2 3\n",
      "\n",
      ">>4 5 6 7\n",
      "\n",
      "> Source : http://www.geeksforgeeks.org/level-order-tree-traversal/"
     ]
    },
    {
     "cell_type": "code",
     "collapsed": false,
     "input": [
      "def level_order_traversal( root ):\n",
      "    # This is similar to the breadth first search algorithm\n",
      "    # discussed in the graphs chapter.\n",
      "    # Have an open list to mark visiting each node.\n",
      "    # Also have a track list to track nodes all nodes of a level\n",
      "    openList = [ root ]\n",
      "    print root.key,'\\n'\n",
      "    markedList = [ root ]\n",
      "    while len( openList ) > 0:\n",
      "        currNode = openList.pop(0)\n",
      "        markedList = markedList[1:]\n",
      "        # Append the elements of left and right children\n",
      "        if currNode.leftChild is not None:\n",
      "            openList.append( currNode.leftChild )\n",
      "        if currNode.rightChild is not None:\n",
      "            openList.append( currNode.rightChild )\n",
      "        if markedList == []:\n",
      "            if openList == []:break\n",
      "            for j in openList:\n",
      "                print j.key, \n",
      "            print '\\n'\n",
      "            markedList = [o for o in openList]\n",
      "        \n",
      "\n",
      "# Build the tree for testing\n",
      "testTree = Tree(1)\n",
      "testTree.insert_left_child(2)\n",
      "testTree.insert_right_child(3)\n",
      "testTree.leftChild.insert_left_child(4)\n",
      "testTree.leftChild.insert_right_child(5)\n",
      "testTree.rightChild.insert_left_child(6)\n",
      "testTree.rightChild.insert_right_child(7)\n",
      "# level order print\n",
      "print \"#### Level Order Traversal ####\"\n",
      "level_order_traversal(testTree)\n",
      "print \"#### Level Order Traversal ####\""
     ],
     "language": "python",
     "metadata": {},
     "outputs": [
      {
       "output_type": "stream",
       "stream": "stdout",
       "text": [
        "#### Level Order Traversal ####\n",
        "1 \n",
        "\n",
        "2 3 \n",
        "\n",
        "4 5 6 7 \n",
        "\n",
        "#### Level Order Traversal ####\n"
       ]
      }
     ],
     "prompt_number": 80
    },
    {
     "cell_type": "markdown",
     "metadata": {},
     "source": [
      "> Given a node and a certain distance as inputs, from a tree, get all the nodes that the given distance apart from the input node.\n",
      "\n",
      "> Source : http://www.careercup.com/question?id=5752678512590848"
     ]
    }
   ],
   "metadata": {}
  }
 ]
}