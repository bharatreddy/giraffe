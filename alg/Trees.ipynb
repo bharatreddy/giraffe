{
 "metadata": {
  "name": "",
  "signature": "sha256:3a88e712c0b02cf2f8fe687eb7caf9cbb0f13e35ba09a84878bc9614e98f22f7"
 },
 "nbformat": 3,
 "nbformat_minor": 0,
 "worksheets": [
  {
   "cells": [
    {
     "cell_type": "markdown",
     "metadata": {},
     "source": [
      "> We'll start with defining Tree class."
     ]
    },
    {
     "cell_type": "code",
     "collapsed": false,
     "input": [
      "class Tree(object):\n",
      "    \"\"\"\n",
      "    A Tree class where root can be any object, just like \n",
      "    a list. We'll most likely have it as char or a number.\n",
      "    We'll initiate the tree with no left/right children, but\n",
      "    when needed they will also be represented by the Tree class.\n",
      "    Making them sub trees.\n",
      "    \"\"\"\n",
      "    \n",
      "    def __init__(self, root):\n",
      "        self.key = root\n",
      "        self.leftChild = None\n",
      "        self.rightChild = None\n",
      "    \n",
      "    def insert_left_child( self, node ):\n",
      "        # function to insert a left child to a \n",
      "        # given node.\n",
      "        if self.leftChild == None:\n",
      "            # If no left child is present insert it\n",
      "            self.leftChild = Tree(node)\n",
      "        else:\n",
      "            # If there is a left child already present, make the\n",
      "            # new one the left child and append the existing left \n",
      "            # child to the new left child.\n",
      "            temp = Tree(node)\n",
      "            temp.leftChild = self.leftChild\n",
      "            self.leftChild = temp\n",
      "            \n",
      "    def insert_right_child( self, node ):\n",
      "        # function to insert a right child to a \n",
      "        # given node. Similar to insert_left_child\n",
      "        # function defined above.\n",
      "        if self.rightChild == None:\n",
      "            self.rightChild = Tree(node)\n",
      "        else:\n",
      "            temp = Tree(node)\n",
      "            temp.rightChild = self.rightChild\n",
      "            self.rightChild = temp\n",
      "\n",
      "    def preorder_traversal( self ):\n",
      "        # Function to do a preorder traversal of the \n",
      "        # tree, root-->leftchild-->rightchild\n",
      "        print self.key\n",
      "        if self.leftChild is not None:\n",
      "            self.leftChild.preorder_traversal()\n",
      "        if self.rightChild is not None:\n",
      "            self.rightChild.preorder_traversal()\n",
      "            \n",
      "    def postorder_traversal( self ):\n",
      "        # Function to do a postorder traversal of the \n",
      "        # tree, leftchild-->rightchild-->root\n",
      "        if self.leftChild is not None:\n",
      "            self.leftChild.postorder_traversal()\n",
      "        if self.rightChild is not None:\n",
      "            self.rightChild.postorder_traversal()\n",
      "        print self.key\n",
      "        \n",
      "    def inorder_traversal( self ):\n",
      "        # Function to do a postorder traversal of the \n",
      "        # tree, leftchild-->rightchild-->root\n",
      "        if self.leftChild is not None:\n",
      "            self.leftChild.postorder_traversal()\n",
      "        print self.key\n",
      "        if self.rightChild is not None:\n",
      "            self.rightChild.postorder_traversal()"
     ],
     "language": "python",
     "metadata": {},
     "outputs": [],
     "prompt_number": 12
    },
    {
     "cell_type": "code",
     "collapsed": false,
     "input": [
      "# Build a sample tree            \n",
      "sampleTree = Tree('a')\n",
      "sampleTree.insert_left_child('b')\n",
      "sampleTree.insert_right_child('c')\n",
      "print \"preorder traversal :\"\n",
      "sampleTree.preorder_traversal()\n",
      "print \"-------------------\"\n",
      "print \"postorder traversal :\"\n",
      "sampleTree.postorder_traversal()\n",
      "print \"-------------------\"\n",
      "print \"inorder traversal :\"\n",
      "sampleTree.inorder_traversal()\n",
      "print \"-------------------\""
     ],
     "language": "python",
     "metadata": {},
     "outputs": [
      {
       "output_type": "stream",
       "stream": "stdout",
       "text": [
        "preorder traversal :\n",
        "a\n",
        "b\n",
        "c\n",
        "-------------------\n",
        "postorder traversal :\n",
        "b\n",
        "c\n",
        "a\n",
        "-------------------\n",
        "inorder traversal :\n",
        "b\n",
        "a\n",
        "c\n",
        "-------------------\n"
       ]
      }
     ],
     "prompt_number": 13
    },
    {
     "cell_type": "code",
     "collapsed": false,
     "input": [],
     "language": "python",
     "metadata": {},
     "outputs": []
    }
   ],
   "metadata": {}
  }
 ]
}