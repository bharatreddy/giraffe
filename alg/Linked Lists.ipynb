{
 "metadata": {
  "name": "",
  "signature": "sha256:7080d5ef0d062f96bf9d85664def637c5fb32cd6b148152273909fe717d02848"
 },
 "nbformat": 3,
 "nbformat_minor": 0,
 "worksheets": [
  {
   "cells": [
    {
     "cell_type": "markdown",
     "metadata": {},
     "source": [
      "> We'll start with defining a linked list (and node) class(es) encorporating different features of a linked list.\n",
      "\n",
      "> A few notes about linked lists.\n",
      ">> They are unordered lists.\n",
      ">> We dont need the elements to be in contiguos memory. \n",
      ">> Each element points to the location of the next, so once we know the first, we know the location of the second and so on.\n",
      ">> The external reference (first item) is called the head.\n",
      ">> The last item neds to know there is no next item.\n",
      "\n",
      "> Inspired from : http://interactivepython.org/runestone/static/pythonds/BasicDS/ImplementinganUnorderedListLinkedLists.html"
     ]
    },
    {
     "cell_type": "code",
     "collapsed": false,
     "input": [
      "class Node(object):\n",
      "    \"\"\"\n",
      "    The fundamental element of a linked list. Each node holds\n",
      "    two peices of info, it holds the value or the item itself \n",
      "    and the other is reference/location of the next node.\n",
      "    \"\"\"\n",
      "    \n",
      "    def __init__(self, value):\n",
      "        self.value = value\n",
      "        # set the next reference to None initially\n",
      "        self.next = None\n",
      "        \n",
      "    def set_value(self, value):\n",
      "        # A function to change/update value of a node\n",
      "        self.value = value\n",
      "    \n",
      "    def set_next( self, next ):\n",
      "        # A function to add/update value of a node\n",
      "        self.next = next\n",
      "\n",
      "class LinkedList(object):\n",
      "    \"\"\"\n",
      "    A linked list class which makes it easy \n",
      "    to create and handle linked lists. \n",
      "    Primarily to be used elsewhere.\n",
      "    \"\"\"\n",
      "    \n",
      "    def __init__(self):\n",
      "        # start with a null list, head points to None\n",
      "        self.head = None\n",
      "        \n",
      "    def add( self, node ):\n",
      "        # Func to add new elements to a LL\n",
      "        # Each new element is a node object.\n",
      "        newElement = Node(node)\n",
      "        # Now set the new element to refer to the \n",
      "        # old first element of the LL. Now the head\n",
      "        # can refer to the new element.\n",
      "        newElement.set_next( self.head )\n",
      "        self.head = newElement\n",
      "        \n",
      "myLL = LinkedList()\n",
      "myLL.add(1)\n",
      "myLL.add(10)"
     ],
     "language": "python",
     "metadata": {},
     "outputs": [],
     "prompt_number": 2
    },
    {
     "cell_type": "code",
     "collapsed": false,
     "input": [],
     "language": "python",
     "metadata": {},
     "outputs": []
    }
   ],
   "metadata": {}
  }
 ]
}