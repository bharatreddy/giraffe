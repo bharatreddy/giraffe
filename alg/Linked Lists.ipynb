{
 "metadata": {
  "name": "",
  "signature": "sha256:c85ef024e4230f33c221444255a8e02d41625ca3e0af3b6187ac0ba5add6c43f"
 },
 "nbformat": 3,
 "nbformat_minor": 0,
 "worksheets": [
  {
   "cells": [
    {
     "cell_type": "markdown",
     "metadata": {},
     "source": [
      "> We'll start with defining a linked list (and node) class(es) encorporating different features of a linked list.\n",
      "\n",
      "> A few notes about linked lists.\n",
      ">> They are unordered lists.\n",
      ">> We dont need the elements to be in contiguos memory. \n",
      ">> Each element points to the location of the next, so once we know the first, we know the location of the second and so on.\n",
      ">> The external reference (first item) is called the head.\n",
      ">> The last item n\n",
      "\n",
      "> Inspired from : http://interactivepython.org/runestone/static/pythonds/BasicDS/ImplementinganUnorderedListLinkedLists.html"
     ]
    },
    {
     "cell_type": "code",
     "collapsed": false,
     "input": [
      "class LinkedList(object):\n",
      "    \"\"\"\n",
      "    A linked list class which makes it easy \n",
      "    to create and handle linked lists. \n",
      "    Primarily to be used elsewhere.\n",
      "    \"\"\"\n",
      "    \n",
      "    def __init__(self):"
     ],
     "language": "python",
     "metadata": {},
     "outputs": []
    }
   ],
   "metadata": {}
  }
 ]
}