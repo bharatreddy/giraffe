{
 "metadata": {
  "name": "",
  "signature": "sha256:b0cd0f90f077e149c6349e4cad55ac6eddca9f7a6dd8171ce6833ea63d118c84"
 },
 "nbformat": 3,
 "nbformat_minor": 0,
 "worksheets": [
  {
   "cells": [
    {
     "cell_type": "heading",
     "level": 3,
     "metadata": {},
     "source": [
      "# First we'll create a graph.\n",
      "# The way we'll define a graph is usign a dict.\n",
      "# Say we have a dict G = {}, an node will be :\n",
      "# initiated as a dict in G -> G[node1] = {}, G[node2] = {}\n",
      "# and each edge as --> G[node1][node2] = 1, we'll use the function\n",
      "# make_link(), to make the edges, Source -> Udacity: Intro to algos, lesson 3"
     ]
    },
    {
     "cell_type": "code",
     "collapsed": false,
     "input": [
      "def make_link( G, node1, node2, bidirectGraph=True ):\n",
      "    if node1 not in G:\n",
      "        G[node1] = {}\n",
      "    G[node1][node2] = 1\n",
      "    if node2 not in G:\n",
      "        G[node2] = {}\n",
      "    # Now if this is a bidirectional graph\n",
      "    if bidirectGraph:\n",
      "        G[node2][node1] = 1\n",
      "    return G"
     ],
     "language": "python",
     "metadata": {},
     "outputs": [],
     "prompt_number": 2
    },
    {
     "cell_type": "heading",
     "level": 3,
     "metadata": {},
     "source": [
      "# Code to check disconnected components (and their sizes) in a graph\n",
      "# Source -> Udacity: Intro to algos, lesson 3"
     ]
    },
    {
     "cell_type": "code",
     "collapsed": false,
     "input": [
      "def get_graph():\n",
      "    # function to create a graph\n",
      "    # we'll make a graph with the following edges\n",
      "    edges = [ ('a', 'g'), ( 'a', 'd' ), ( 'd', 'g' ),\\\n",
      "             ( 'g', 'c' ), ( 'b', 'f' ), ( 'f', 'e' ), ( 'e', 'h' ) ]\n",
      "    graph = {}\n",
      "    for (x,y) in edges: \n",
      "        make_link( graph, x, y )\n",
      "    return graph\n",
      "\n",
      "def get_disconnected_comps():\n",
      "    G = get_graph()\n",
      "    # check for a corner case of no nodes\n",
      "    if len( G.keys() ) == 0:\n",
      "        print \"There are no nodes in this graph\"\n",
      "    # we'll keep a marked dict which basically\n",
      "    # keeps track of all the nodes that are marked\n",
      "    marked = {}\n",
      "    for node in G.keys():\n",
      "        if node not in marked:\n",
      "            print \"branch with node->\", node\n",
      "            # we'll use another function to mark the components\n",
      "            # that are connected to the node, that way we'll \n",
      "            # avoid missing any comps\n",
      "            print \"number of connections\", \\\n",
      "            get_num_conns( G, node, marked)\n",
      "\n",
      "def get_num_conns( G, node, marked ):\n",
      "    # check if the proper values are passed\n",
      "    assert node in G.keys()\n",
      "    # now start with each neighbor of the node\n",
      "    # and mark each component attached to the node\n",
      "    # repeat this process recursively to mark all edges\n",
      "    # that connect to the neighbors of the first node, thereby\n",
      "    # marking all connected components\n",
      "    num_edges = 1\n",
      "    marked[node] = True\n",
      "    for nextNode in G[node]:\n",
      "        if nextNode not in marked:\n",
      "            num_edges += get_num_conns( G, nextNode, marked )\n",
      "    return num_edges\n",
      "\n",
      "get_disconnected_comps()"
     ],
     "language": "python",
     "metadata": {},
     "outputs": [
      {
       "output_type": "stream",
       "stream": "stdout",
       "text": [
        "branch with node-> a\n",
        "number of connections 4\n",
        "branch with node-> b\n",
        "number of connections 4\n"
       ]
      }
     ],
     "prompt_number": 3
    },
    {
     "cell_type": "heading",
     "level": 3,
     "metadata": {},
     "source": [
      "# Code to check if two components in a graph are connected\n",
      "# slight modification to the question above\n",
      "# Source -> Udacity: Intro to algos, lesson 3"
     ]
    },
    {
     "cell_type": "code",
     "collapsed": false,
     "input": [
      "def check_connection( G, node1, node2, marked = {} ):\n",
      "    # loop through the neighbors of node1\n",
      "    # mark them as connected using a marked dict\n",
      "    # recursively repeat the procedure to mark all\n",
      "    # neighbors of neighbors of neighbors of ... until we exhaust\n",
      "    # all connected components of node1, if node 2 is present return\n",
      "    # True, else return False\n",
      "    for nei in G[node1]:\n",
      "        # if nei is node2, return True\n",
      "        if nei == node2:\n",
      "            return True\n",
      "        if nei not in marked:\n",
      "            marked[nei] = True\n",
      "            chkConnected = check_connection( G, nei, node2 )\n",
      "            # Note that we may be returning true in a recursive \n",
      "            # call, so check it, if yes then return True finally\n",
      "            if chkConnected:\n",
      "                return True\n",
      "    return False\n",
      "\n",
      "\n",
      "graph = get_graph()\n",
      "print check_connection( graph, 'a', 'c' ) # True\n",
      "print check_connection( graph, 'a', 'h' ) # False\n",
      "print check_connection( graph, 'b', 'h' ) # True"
     ],
     "language": "python",
     "metadata": {},
     "outputs": [
      {
       "output_type": "stream",
       "stream": "stdout",
       "text": [
        "True\n",
        "False\n",
        "True\n"
       ]
      }
     ],
     "prompt_number": 4
    },
    {
     "cell_type": "heading",
     "level": 3,
     "metadata": {},
     "source": [
      "# Depth first search (also has BFS with minor modification), find path between two nodes ( if any )"
     ]
    },
    {
     "cell_type": "code",
     "collapsed": false,
     "input": [
      "def depth_first_search( G, node1, node2 ):\n",
      "    # make a dict to store paths\n",
      "    pathDict = {}\n",
      "    pathDict[node1] = [node1]\n",
      "    # We will have an openlist and use it to keep track\n",
      "    # of nodes yet to be visited\n",
      "    openList = [node1]\n",
      "    while len(openList) > 0:\n",
      "        # in BFS we do openList.pop(0), the next in breadth\n",
      "        # not in depth\n",
      "        currElement = openList.pop(-1)\n",
      "        # loop through the neighbors of currElement\n",
      "        # and populate the check for node2\n",
      "        for nei in G[currElement].keys():\n",
      "            # check if we already went through this path\n",
      "            if nei not in pathDict.keys():\n",
      "                pathDict[nei] = pathDict[currElement] + [nei]\n",
      "                if nei == node2:\n",
      "                    return pathDict[nei]\n",
      "                openList.append( nei )\n",
      "    # If all options are exhausted return No path\n",
      "    return None\n",
      "\n",
      "graph = get_graph()\n",
      "print depth_first_search( graph, 'b', 'h' )"
     ],
     "language": "python",
     "metadata": {},
     "outputs": [
      {
       "output_type": "stream",
       "stream": "stdout",
       "text": [
        "['b', 'f', 'e', 'h']\n"
       ]
      }
     ],
     "prompt_number": 9
    },
    {
     "cell_type": "code",
     "collapsed": false,
     "input": [],
     "language": "python",
     "metadata": {},
     "outputs": []
    }
   ],
   "metadata": {}
  }
 ]
}