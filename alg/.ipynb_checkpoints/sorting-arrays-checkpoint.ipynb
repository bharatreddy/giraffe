{
 "metadata": {
  "name": "",
  "signature": "sha256:1f7d9fd81c5015d2dd0a6faf073a1fcce9394542ee84a1b6988a292752e9bbc9"
 },
 "nbformat": 3,
 "nbformat_minor": 0,
 "worksheets": [
  {
   "cells": [
    {
     "cell_type": "heading",
     "level": 3,
     "metadata": {},
     "source": [
      "Maximum Sum Path in Two Arrays\n",
      "Given two sorted arrays such the arrays may have some common elements. \n",
      "Find the sum of the maximum sum path to reach from beginning of any array\n",
      "to end of any of the two arrays. \n",
      "We can switch from one array to another array only at common elements.\n",
      "Expected time complexity is O(m+n) where m is the number of elements \n",
      "in ar1[] and n is the number of elements in ar2[].\n",
      "\n",
      "Example:\n",
      "Input:  ar1[] = {2, 3, 7, 10, 12}, ar2[] = {1, 5, 7, 8}\n",
      "Output: 35\n",
      "35 is sum of 1 + 5 + 7 + 10 + 12.\n",
      "\n",
      "Source : Geeks for geeks (http://www.geeksforgeeks.org/maximum-sum-path-across-two-arrays/)"
     ]
    },
    {
     "cell_type": "code",
     "collapsed": false,
     "input": [
      "def max_sum_path( list1, list2 ):\n",
      "    # This is pretty similar to merge sort\n",
      "    # use a merge sort type algo and calculate \n",
      "    # sum of elements in both arrays until we hit a \n",
      "    # common element, then take in the higher sum as \n",
      "    # out sum (until that point-lets call this outSum)\n",
      "    # reset both the individual array sums to 0, repeat\n",
      "    # the process until next common element add the higher\n",
      "    # sum to outSum and repeat until all elements are covered\n",
      "    count1 = 0\n",
      "    count2 = 0\n",
      "    sum1 = 0\n",
      "    sum2 = 0\n",
      "    maxSumPath = 0\n",
      "    while ( ( count1 <= len(list1)-1 ) & ( count2 <= len(list2)-1 ) ):\n",
      "        if list1[count1] != list2[count2]:\n",
      "            sum1 += list1[count1]\n",
      "            sum2 += list2[count2]\n",
      "        else:\n",
      "            # Now there may be a corner case where count1 != count2\n",
      "            # (acutally no, but just to make sure)\n",
      "            if count1 == count2:\n",
      "                maxSumPath += max( sum1, sum2 ) + list1[count1]\n",
      "                sum1 = 0\n",
      "                sum2 = 0\n",
      "            else:\n",
      "                sum1 += list1[count1]\n",
      "                sum2 += list2[count2]\n",
      "        count1 += 1\n",
      "        count2 += 1\n",
      "    while ( count1 <= len(list1)-1 ):\n",
      "        sum1 += list1[count1]\n",
      "        count1 += 1\n",
      "    while ( count2 <= len(list2)-1 ):\n",
      "        sum2 += list2[count2]\n",
      "        count1 += 2\n",
      "    maxSumPath += max(sum1,sum2)\n",
      "    return maxSumPath\n",
      "\n",
      "ar1 = [2, 3, 7, 10, 12]\n",
      "ar2 = [1, 5, 7, 8]\n",
      "print max_sum_path(ar1,ar2)"
     ],
     "language": "python",
     "metadata": {},
     "outputs": [
      {
       "output_type": "stream",
       "stream": "stdout",
       "text": [
        "35\n"
       ]
      }
     ],
     "prompt_number": 8
    },
    {
     "cell_type": "code",
     "collapsed": false,
     "input": [],
     "language": "python",
     "metadata": {},
     "outputs": []
    }
   ],
   "metadata": {}
  }
 ]
}