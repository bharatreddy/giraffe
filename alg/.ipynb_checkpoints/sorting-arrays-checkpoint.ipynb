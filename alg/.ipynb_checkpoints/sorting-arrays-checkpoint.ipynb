{
 "metadata": {
  "name": "",
  "signature": "sha256:e6c3eb25fcf58b99b248e3f2c340474e280ac5ebcd8c549bd6a619951cf49515"
 },
 "nbformat": 3,
 "nbformat_minor": 0,
 "worksheets": [
  {
   "cells": [
    {
     "cell_type": "heading",
     "level": 3,
     "metadata": {},
     "source": [
      "Maximum Sum Path in Two Arrays\n",
      "Given two sorted arrays such the arrays may have some common elements. \n",
      "Find the sum of the maximum sum path to reach from beginning of any array\n",
      "to end of any of the two arrays. \n",
      "We can switch from one array to another array only at common elements.\n",
      "Expected time complexity is O(m+n) where m is the number of elements \n",
      "in ar1[] and n is the number of elements in ar2[].\n",
      "\n",
      "Example:\n",
      "Input:  ar1[] = {2, 3, 7, 10, 12}, ar2[] = {1, 5, 7, 8}\n",
      "Output: 35\n",
      "35 is sum of 1 + 5 + 7 + 10 + 12.\n",
      "\n",
      "Source : Geeks for geeks (http://www.geeksforgeeks.org/maximum-sum-path-across-two-arrays/)"
     ]
    },
    {
     "cell_type": "code",
     "collapsed": false,
     "input": [
      "def max_sum_path( array1, array2 ):\n",
      "    # This is pretty similar to merge sort\n",
      "    # "
     ],
     "language": "python",
     "metadata": {},
     "outputs": []
    }
   ],
   "metadata": {}
  }
 ]
}