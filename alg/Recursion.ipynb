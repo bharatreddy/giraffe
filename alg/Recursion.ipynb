{
 "metadata": {
  "name": "",
  "signature": "sha256:b641dc921bbaa2f8990cbc5388610052a1b286ebccf6e1d72dc3299c7659506c"
 },
 "nbformat": 3,
 "nbformat_minor": 0,
 "worksheets": [
  {
   "cells": [
    {
     "cell_type": "markdown",
     "metadata": {},
     "source": [
      "> Recursion is a pretty fundamental and important concept in algorithms. It involves the divide and conquer strategy where we break a problem into smaller and smaller peices until it becomes trivial.\n",
      "\n",
      "> There are pros and cons with recursion, the main advantage is that recursion can sometimes provide a simple and elegant solution to a complex problem. The disadvantage is that it could be computationally expensive. The important concept with recursion is to know when to use it and when to avoid it.\n",
      "\n",
      "> There are three fundamental rules to follow while applying recursion.\n",
      ">> A recursive function should call itself in some way.\n",
      "\n",
      ">> A recursive function should always have a base/exit case.\n",
      "\n",
      ">> The recursion should always move towards the base case.\n",
      "\n",
      "> Below are a few recursion questions for practice.\n",
      "\n",
      "> Inspired from : http://interactivepython.org/runestone/static/pythonds/index.html#recursion"
     ]
    },
    {
     "cell_type": "code",
     "collapsed": false,
     "input": [
      "def factorial( n ):\n",
      "    # given a number n, get its factorial\n",
      "    # The base condition -> if n <= 1 return n\n",
      "    if n <= 1:\n",
      "        return n\n",
      "    # Now the recursion part, always move towards base case\n",
      "    return n*factorial(n-1)\n",
      "\n",
      "# Test Case #\n",
      "print factorial(5)\n",
      "print factorial(1)"
     ],
     "language": "python",
     "metadata": {},
     "outputs": [
      {
       "output_type": "stream",
       "stream": "stdout",
       "text": [
        "120\n",
        "1\n"
       ]
      }
     ],
     "prompt_number": 4
    },
    {
     "cell_type": "code",
     "collapsed": false,
     "input": [
      "def fibonacci(n):\n",
      "    # print the nth element of a fibonacci series\n",
      "    # Here we start with 1, not 0.\n",
      "    # The base cases\n",
      "    if n == 0 :\n",
      "        return 0\n",
      "    if n == 1:\n",
      "        return 1\n",
      "    # Recurse towards the base case, fib(n) = fib(n-1) + fib(n-2)\n",
      "    return fibonacci(n-1) + fibonacci(n-2)\n",
      "\n",
      "# Test Case #\n",
      "print fibonacci(6)\n",
      "print fibonacci(10)"
     ],
     "language": "python",
     "metadata": {},
     "outputs": [
      {
       "output_type": "stream",
       "stream": "stdout",
       "text": [
        "8\n",
        "55\n"
       ]
      }
     ],
     "prompt_number": 15
    },
    {
     "cell_type": "code",
     "collapsed": false,
     "input": [],
     "language": "python",
     "metadata": {},
     "outputs": []
    }
   ],
   "metadata": {}
  }
 ]
}