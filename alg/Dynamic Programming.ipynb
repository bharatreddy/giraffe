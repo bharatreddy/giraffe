{
 "metadata": {
  "name": "",
  "signature": "sha256:04534bda198153136c676d0e0a4f44edaf413ff7d47d4609f6f9d2f7a4a79993"
 },
 "nbformat": 3,
 "nbformat_minor": 0,
 "worksheets": [
  {
   "cells": [
    {
     "cell_type": "markdown",
     "metadata": {},
     "source": [
      "> Dynamic Programming is a method generally applied to optimization problems. This technique involves dividing a problem into smaller sub problems with overlapping solutions. We adopt a bottom to top approach, where we solve the simplest problem first\n",
      "and then move towards more complicated cases using solutions from the smaller cases.\n",
      "\n",
      ">Refs: \n",
      ">>1) http://jeremykun.com/2012/01/12/a-spoonful-of-python/\n",
      "\n",
      ">>2) http://interactivepython.org/runestone/static/pythonds/Recursion/DynamicProgramming.html"
     ]
    },
    {
     "cell_type": "markdown",
     "metadata": {},
     "source": [
      "> Find nth element of fibonacci series using Dynamic Programming.\n",
      ">> 1,1,2,3,5,8\n",
      "\n",
      "> Source : http://jeremykun.com/2012/01/12/a-spoonful-of-python/"
     ]
    },
    {
     "cell_type": "code",
     "collapsed": false,
     "input": [
      "def fibonacci(n):\n",
      "    # Here we use the (same) formula, f(n) = f(n-1) + f(n-2)\n",
      "    # however in recursion, we compute f(n-1) and f(n-2) seperately\n",
      "    # and end up doing same calculations over and over again, resulting\n",
      "    # in a lot of inefficiency. For ex, f(4)=f(3)+f(2), while recursing on f(3)\n",
      "    # we calculate f(2), f(1), f(0) and while recursing on f(2) we calculate\n",
      "    # f(1), f(0) thereby repeating the same calculations. This increases for \n",
      "    # bigger numbers. This could have been avoided using DP, where we effectively\n",
      "    # store the values of f(0), f(1) and so on and reuse them.\n",
      "    if n <= 2:\n",
      "        return 1\n",
      "    f = []\n",
      "    f.append( 1 )\n",
      "    f.append( 1 )\n",
      "    for i in range(2,n+1):\n",
      "        f.append( f[i-1] + f[i-2] )\n",
      "    return f[n-1]\n",
      "\n",
      "print \"6th number of Fibonacci series-->\",fibonacci(6)"
     ],
     "language": "python",
     "metadata": {},
     "outputs": [
      {
       "output_type": "stream",
       "stream": "stdout",
       "text": [
        "6th number of Fibonacci series--> 8\n"
       ]
      }
     ],
     "prompt_number": 22
    },
    {
     "cell_type": "markdown",
     "metadata": {},
     "source": [
      "> Coin change problem. Calcuate the minimum number of coins required to make exact change. Simulate a vending machine.\n",
      "\n",
      "> Source(s) : \n",
      ">> http://interactivepython.org/runestone/static/pythonds/Recursion/DynamicProgramming.html\n",
      "\n",
      ">> http://jeremykun.com/2012/01/12/a-spoonful-of-python/"
     ]
    },
    {
     "cell_type": "code",
     "collapsed": false,
     "input": [
      "def get_change( change, coins = [1,5,10] ):\n",
      "    # We solve for this problem by starting with the simplest case\n",
      "    # as is usually done in DP problems. Lets say we need to make \n",
      "    # change for 11 cents and we have 1,5,10 cent coins in the machine.\n",
      "    # Lets calculate change needede from 1 to 11 cents using all types\n",
      "    # of coins. We maintain the solution in a 2d array numCoins[i,j] where\n",
      "    # say i denotes the coins and j denotes the change.\n",
      "    # Now if we use only 1 cent coins, we'll need 1 coint for 1 cent \n",
      "    # 2 coins for 2cents and 11 of those for 11 cents. Now we go to i+1'th\n",
      "    # coin value --> 5 cents coin, until 4cents we'll still use 4 1cent coins\n",
      "    # but for 5 cents we can use 1 coin, 6 cents 2 and so..on. Same is the case\n",
      "    # for 10 cent coins. Basically to determine numCoins[i,j] we have 2 options\n",
      "    # 1) numCoins[i,j] = 1 + numCoins[i,j-vi], vi is the value of the coin at ith index\n",
      "    # 2) numCoins[i,j] = numCoins[1-i,j]. The solution will be min of 1 and 2.\n",
      "    numCoins = [[0 for j in range(change + 1)]\n",
      "               for i in range(len(coins))]\n",
      "    # start with the pennies\n",
      "    numCoins[0] = range(change + 1)\n",
      "    for i in range(1,len(coins)):\n",
      "       for j in range(0, change + 1):\n",
      "          if j < coins[i]:\n",
      "             numCoins[i][j] = numCoins[i-1][j]\n",
      "          else:\n",
      "             numCoins[i][j] = min(numCoins[i-1][j],\n",
      "             1 + numCoins[i][j-coins[i]])\n",
      "\n",
      "    return numCoins[-1][-1]\n",
      "\n",
      "print get_change( 15 )"
     ],
     "language": "python",
     "metadata": {},
     "outputs": [
      {
       "output_type": "stream",
       "stream": "stdout",
       "text": [
        "2\n"
       ]
      }
     ],
     "prompt_number": 26
    },
    {
     "cell_type": "markdown",
     "metadata": {},
     "source": [
      "> Given an array of integer elements, where each element can represents the number of jumps that can be made from the current index. Get the minimum number of jumps required to make it to the end of the array.\n",
      "\n",
      "> Example:\n",
      ">> Input: arr = [ 1, 3, 5, 8, 9, 2, 6, 7, 6, 8, 9 ]\n",
      "\n",
      ">> Output: 3 (1-> 3 -> 8 ->9)\n",
      "\n",
      "> Source : http://www.geeksforgeeks.org/minimum-number-of-jumps-to-reach-end-of-a-given-array/"
     ]
    },
    {
     "cell_type": "code",
     "collapsed": false,
     "input": [
      "def min_jumps( steps ):\n",
      "    # We'll employ the basic principles of DP to get this one.\n",
      "    # First, divide the problem into smaller subsets and \n",
      "    # start building from the bottom to the top.\n",
      "    # Say we want to guess the minimum number of steps needed to\n",
      "    # go to index 4 (say jumps[4]), this will be minimum value of the \n",
      "    # following options 0> 1) if steps[3] >= 1 : 1 + jumps[3],\n",
      "    # 2) if steps[2] >= 2: 1+jumps[2], 3) if steps[1] >= 3 : 1 +jumps[1].\n",
      "    # We'll start with index 1 and start building on it.\n",
      "    # Now initialize an array to store number of steps needed to go to a\n",
      "    # particular index. Start with the max, assuming we'll take \n",
      "    # 1 step at each index.\n",
      "    jumps = range( len(steps) )\n",
      "    for i in range( 1, len(steps) ):\n",
      "        for j in range( 1, i-1 ):\n",
      "            if steps[j] >= i-j:\n",
      "                currJump = jumps[j] + 1\n",
      "            if currJump < jumps[i]:\n",
      "                jumps[i] = currJump\n",
      "    return jumps[-1]\n",
      "    \n",
      "inpArr = [ 1, 3, 5, 8, 9, 2, 6, 7, 6, 8, 9 ]\n",
      "print min_jumps( inpArr )"
     ],
     "language": "python",
     "metadata": {},
     "outputs": []
    },
    {
     "cell_type": "markdown",
     "metadata": {},
     "source": [
      "> The 0-1 Knapsack problem. For a given set of items, each with a mass and a value, select some or all of the items to include in a collection so that the total weight is less than or equal to a given limit and the total value is as large as possible.\n",
      "\n",
      "> Source : http://www.geeksforgeeks.org/dynamic-programming-set-10-0-1-knapsack-problem/"
     ]
    },
    {
     "cell_type": "code",
     "collapsed": false,
     "input": [
      "def knapsack( valArr, wgtArr, W ):\n",
      "    # Again we'll start with the bottom to top approach.\n",
      "    # Take an example where weights are 5, 4, 6, 3 and corresponding\n",
      "    # values are 10, 40, 30, 50 and the weight limit of the knapsack \n",
      "    # is 10. If we divide the weight limit from 1 to 10 and just have 1 item\n",
      "    # with value 10 and weight 5, our knapsack can have 0 items from weights\n",
      "    # 1-4 and from weights 5 to 10, we can have a value of 10 and weight 5. Now \n",
      "    # lets say we add another item with weight 4 and value 40. Similar to the \n",
      "    # case we'll have 0 values from weights 1-4, but at weight 4, we can include\n",
      "    # the new item with value 40 and weight 4. Things get really interesting when\n",
      "    # we move to weight 5. Now we can choose to have the previous item with weight 5\n",
      "    # and value 10 or new item with value 40 and weight 4. We'll ofcourse choose value 40.\n",
      "    # Now things get even more interesting when we move to weight 9, we can choose to\n",
      "    # have both items and make our total value 40+10 (take the 9-4=5th value from prev iteration).\n",
      "    # If we think of this as a 2d array maxVal[i,j], with i representing items (index)\n",
      "    # and j representing weight range from 1->W. Then if weight[i] <= j:\n",
      "    # maxVal[i,j] = max( maxVal[i-1,j], maxVal[ i-1, j-w[i] ] + valArr[i]  )\n",
      "    # else: maxVal[i,j] = maxVal[i-1,j]\n",
      "    # initialize the maxVal array\n",
      "    maxVal = [ [0 for i in range( W ) ] \\\n",
      "              for k in range( len(valArr) )\\\n",
      "              ]\n",
      "    for j in range(1,W):\n",
      "        for i in range( 1, len(valArr) ):\n",
      "            if wgtArr[i] > j:\n",
      "                maxVal[i][j] = maxVal[i-1][j]\n",
      "            else:\n",
      "                maxVal[i][j] = max( \\\n",
      "                                  maxVal[i-1][j], maxVal[ i-1][j-wgtArr[i]] + valArr[i]  \\\n",
      "                                  )\n",
      "    return maxVal[-1][-1]\n",
      "\n",
      "vals = [ 10, 40, 30, 50 ]\n",
      "weights = [ 5, 4, 6, 3 ]\n",
      "sackLimit = 10\n",
      "print knapsack( vals, weights, sackLimit )"
     ],
     "language": "python",
     "metadata": {},
     "outputs": [
      {
       "output_type": "stream",
       "stream": "stdout",
       "text": [
        "90\n"
       ]
      }
     ],
     "prompt_number": 40
    },
    {
     "cell_type": "markdown",
     "metadata": {},
     "source": [
      "> Cut a rope of 'n' meters into any number of given parts of integer length such as to maximize the product of the lengths of all parts.\n",
      "\n",
      "> Ex : n = 8, product = 18 (2\\*3\\*3)\n",
      "\n",
      "> Source : http://www.geeksforgeeks.org/dynamic-programming-set-36-cut-a-rope-to-maximize-product/"
     ]
    },
    {
     "cell_type": "code",
     "collapsed": false,
     "input": [
      "def cut_rope(n):\n",
      "    # Using the principles of DP, we divide the problem into smaller\n",
      "    # subsets and move from the bottom to top. If say we are working\n",
      "    # a rope of say 8. We can set the simplest problem to be having\n",
      "    # a rope of 1m and iterate on it. With 1 meter, we can only have\n",
      "    # 1 peice with 1 mtr length. Now if we have a string 2 mtrs long\n",
      "    # we can cut it into two peices 1,1 wih max_prod = 1. Now we move \n",
      "    # to 3 mtr long string, we can have 1,2 or 1,1,1 peices. We'll choose\n",
      "    # 1,2 ofcourse. We can note here that the max product will either be\n",
      "    # 1*2 or 1*max_prod(2). Now for 3 mt long rope, we'll have the \n",
      "    # max_prod = max( 1*max_prod(2), 1*2 ), for 4 mt we'll have\n",
      "    # max ( 1*3, 1*max_prod[3], 2*2, max_prod[2] ) and so on.\n",
      "    partsArr = [ i for i in range(n+1) ]\n",
      "    # Loop through assuming we have i (1 to n) number of parts\n",
      "    for j in range(1,n+1):\n",
      "        maxProd = 0\n",
      "        # Loop for the subparts\n",
      "        for k in range(1,j//2+1):\n",
      "            maxProd = max( [ maxProd, (j-k)*k, k*partsArr[j-k] ] )\n",
      "        partsArr[j] = maxProd\n",
      "    return partsArr[n]\n",
      "    \n",
      "print \"Max. product cutting the 10m rope-->\", cut_rope(10)\n",
      "print \"Max. product cutting the 8m rope-->\", cut_rope(8)"
     ],
     "language": "python",
     "metadata": {},
     "outputs": [
      {
       "output_type": "stream",
       "stream": "stdout",
       "text": [
        "Max. product cutting the 10m rope--> 36\n",
        "Max. product cutting the 8m rope--> 18\n"
       ]
      }
     ],
     "prompt_number": 39
    },
    {
     "cell_type": "markdown",
     "metadata": {},
     "source": [
      "> Check if a given string can be generated by a given regular expression just composed of letters and *\n",
      "\n",
      "> Source : http://www.careercup.com/question?id=13252671"
     ]
    },
    {
     "cell_type": "code",
     "collapsed": false,
     "input": [
      "def is_match( string, pattern ):\n",
      "    # This is a completely unverified algo. So there is a good chance \n",
      "    # there is a problem with this method. Anyways, we'll use a DP method.\n",
      "    # We'll have the subproblems as each individual character of the string \n",
      "    # and the pattern. Let's say our string is S='abbc' and the pattern is \n",
      "    # P ='ab*c'. Now let's start with S='a' and P='a', the simplest version\n",
      "    # of the problem, S==P, so all is good, we can get to the next step. We'll\n",
      "    # store the results (True/False) in an array called match[s][p]. Now S='ab'\n",
      "    # and P = 'ab'. Again since match[s-1][p-1] is True (previous case where 'a'=='a')\n",
      "    # and S[-1] == P[-1], match[s][p] is also true. We move on to the next step \n",
      "    # and build the results based on previous simpler cases. There are however a few rules \n",
      "    # on how to deal with '*' etc, listed below.\n",
      "    # There are four cases, each to be dealt differently - draw the match matrix for more clarity.\n",
      "    # 1) both current pattern char and previous patttern char are not '*'\n",
      "    # 2) current pattern char is '*' but previous patttern char is not\n",
      "    # 3) current pattern char is not '*' but previous patttern char is.\n",
      "    # 4) both are *.\n",
      "    match = [[False for i in range(len(pattern))]\\\n",
      "             for j in range(len(string))]\n",
      "    # A corner case where string is of len=1, ex : string='a' and pattern='a*'\n",
      "    if len(string) == 1:\n",
      "        if pattern[0] == '*' or pattern[0] == string[0]:\n",
      "            return True\n",
      "    if pattern[0] == '*':\n",
      "        match[0][0] = True\n",
      "    elif pattern[0] == string[0]:\n",
      "        match[0][0] = True\n",
      "    else:\n",
      "        return False\n",
      "    for p in range(1,len(pattern)):\n",
      "        for s in range(1,len(string)):\n",
      "            if pattern[p] != '*' and pattern[p-1] != '*':\n",
      "                match[s][p] = match[s-1][p-1] and pattern[p] == string[s]\n",
      "            elif pattern[p] == '*' and pattern[p-1] != '*':\n",
      "                match[s][p] = match[s-1][p-1] or match[s-1][p] or match[s][p-1]\n",
      "            elif pattern[p] != '*' and pattern[p-1] == '*':\n",
      "                match[s][p] = ( match[s-1][p-1] and pattern[p] == string[s] )\\\n",
      "                or ( match[s][p-1] and pattern[p] == string[s] )\n",
      "            else:\n",
      "                match[s][p] = match[s][p-1] or match[s-1][p]\n",
      "    return match[-1][-1]\n",
      "\n",
      "print is_match('abc', 'ab*c')\n",
      "print is_match('abbd', 'ab*c')\n",
      "print is_match( 'aaaabaaaaac', 'a*ab*ba**c' )\n",
      "print is_match( 'a', 'a*' )\n",
      "print is_match(\"abracadabra\", \"ab*ca*br*\")"
     ],
     "language": "python",
     "metadata": {},
     "outputs": [
      {
       "output_type": "stream",
       "stream": "stdout",
       "text": [
        "True\n",
        "False\n",
        "True\n",
        "True\n",
        "True\n"
       ]
      }
     ],
     "prompt_number": 1
    },
    {
     "cell_type": "markdown",
     "metadata": {},
     "source": [
      "> Given an array of numbers find the largest contiguous subarray with max sum.\n",
      "\n",
      "> Example : Input : [ 1, -2, 3, 10, -4, 7, 2, -5 ], output : 18 ( formed by the subarray [ 3, 10, -4, 7, 2 ] ).\n",
      "\n",
      "> Source : http://www.geeksforgeeks.org/largest-sum-contiguous-subarray/"
     ]
    },
    {
     "cell_type": "code",
     "collapsed": false,
     "input": [
      "def max_sum_subarray( inputArray ):\n",
      "    # Now since this is a optimization kinda problem,\n",
      "    # indicating we'll probably be better of working \n",
      "    # with dynamic programming. As usual we'll need to\n",
      "    # find the right subproblem and building on the smaller\n",
      "    # problems to reach the bigger problem. Lets say we have an\n",
      "    # array A = [ 1, -2, 3, 10 ], and lets have maxSumTemp var holding\n",
      "    # maxSum at each location. We'll start with the first element, maxSumTemp\n",
      "    # is 1 (=A[0]). Now let the array be A = [1, -2], now maxSumTemp is the\n",
      "    # max of ( A[1], A[1] + maxSumTemp, A[1] + A[0] ). Similarly if A = [1, -2, 3],\n",
      "    # maxSumTemp = ( A[2], A[2] + maxSumTemp, A[2] + A[1] ) and so on... Maintain and \n",
      "    # update a maxSum at each iteration to retreive the max value at the end.\n",
      "    maxSumTemp = inputArray[0]\n",
      "    maxSum = maxSumTemp\n",
      "    for i in range( 1, len(inputArray) ):\n",
      "        \n",
      "        maxSumTemp = max( inputArray[i], inputArray[i] + maxSumTemp,\\\n",
      "                         inputArray[i] + inputArray[i-1] )\n",
      "        if maxSum < maxSumTemp:\n",
      "            maxSum = maxSumTemp\n",
      "    return maxSum\n",
      "\n",
      "print \"max sum-->\", max_sum_subarray( [ 1, -2, 3, 10, -4, 7, 2, -5 ] )\n",
      "print \"max sum-->\", max_sum_subarray( [ -2, -3, 4, -1, -2, 1, 5, -3 ] )"
     ],
     "language": "python",
     "metadata": {},
     "outputs": [
      {
       "output_type": "stream",
       "stream": "stdout",
       "text": [
        "max sum--> 18\n",
        "max sum--> 7\n"
       ]
      }
     ],
     "prompt_number": 12
    },
    {
     "cell_type": "code",
     "collapsed": false,
     "input": [
      "def lngst_cmn_substring( string1, string2 ):\n",
      "    subStrArr = [ [ 0 for i in range(len(string1)) ] \\\n",
      "                 for j in range(len(string2)) ]\n",
      "    # maxLen obtained until now\n",
      "    currMaxLen = 0\n",
      "    # Tuple to hold the position of matrix where we find maxLen\n",
      "    currMaxInd = (0,0)\n",
      "    for n1,s1 in enumerate(string1):\n",
      "        for n2,s2 in enumerate(string2):\n",
      "            if s1 == s2:\n",
      "                if n1 == 0 or n2 == 0:\n",
      "                    subStrArr[n2][n1] = 1\n",
      "                else:\n",
      "                    subStrArr[n2][n1] = subStrArr[n2-1][n1-1] + 1\n",
      "                if subStrArr[n2][n1] > currMaxLen:\n",
      "                    currMaxLen = subStrArr[n2][n1]\n",
      "    print subStrArr\n",
      "    print currMaxLen\n",
      "print lngst_cmn_substring( 'ababc', 'babc' )"
     ],
     "language": "python",
     "metadata": {},
     "outputs": [
      {
       "output_type": "stream",
       "stream": "stdout",
       "text": [
        "[[0, 1, 0, 1, 0], [1, 0, 2, 0, 0], [0, 2, 0, 3, 0], [0, 0, 0, 0, 4]]\n",
        "4\n",
        "None\n"
       ]
      }
     ],
     "prompt_number": 20
    },
    {
     "cell_type": "code",
     "collapsed": false,
     "input": [],
     "language": "python",
     "metadata": {},
     "outputs": []
    }
   ],
   "metadata": {}
  }
 ]
}