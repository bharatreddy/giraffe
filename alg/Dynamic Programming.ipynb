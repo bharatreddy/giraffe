{
 "metadata": {
  "name": "",
  "signature": "sha256:118e31ae0f285b38c2126637fb555e33b2a2d67f5e6f71d8b3976ca426bc0bea"
 },
 "nbformat": 3,
 "nbformat_minor": 0,
 "worksheets": [
  {
   "cells": [
    {
     "cell_type": "markdown",
     "metadata": {},
     "source": [
      "> Dynamic Programming is a method generally applied to optimization problems. This technique involves dividing a problem into smaller sub problems with overlapping solutions. Then the solutions of these sub-problems are saved for future reference, so as to avoid solving for them over and over again.\n",
      "\n",
      ">Refs: \n",
      ">>1) http://jeremykun.com/2012/01/12/a-spoonful-of-python/\n",
      "\n",
      ">>2) http://interactivepython.org/runestone/static/pythonds/Recursion/DynamicProgramming.html"
     ]
    },
    {
     "cell_type": "code",
     "collapsed": false,
     "input": [],
     "language": "python",
     "metadata": {},
     "outputs": []
    }
   ],
   "metadata": {}
  }
 ]
}