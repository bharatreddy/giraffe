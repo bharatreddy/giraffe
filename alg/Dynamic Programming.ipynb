{
 "metadata": {
  "name": "",
  "signature": "sha256:77bfbfa5b580fdc01d17545345820e85d3db688e850d0f2bec5080bab86e972d"
 },
 "nbformat": 3,
 "nbformat_minor": 0,
 "worksheets": [
  {
   "cells": [
    {
     "cell_type": "markdown",
     "metadata": {},
     "source": [
      "> Dynamic Programming is a method generally applied to optimization problems. This technique involves dividing a problem into smaller sub problems with overlapping solutions. We adopt a bottom to top approach, where we solve the simplest problem first\n",
      "and then move towards more complicated cases using solutions from the smaller cases.\n",
      "\n",
      ">Refs: \n",
      ">>1) http://jeremykun.com/2012/01/12/a-spoonful-of-python/\n",
      "\n",
      ">>2) http://interactivepython.org/runestone/static/pythonds/Recursion/DynamicProgramming.html"
     ]
    },
    {
     "cell_type": "markdown",
     "metadata": {},
     "source": [
      "> Find nth element of fibonacci series using Dynamic Programming.\n",
      ">> 1,1,2,3,5,8\n",
      "\n",
      "> Source : http://jeremykun.com/2012/01/12/a-spoonful-of-python/"
     ]
    },
    {
     "cell_type": "code",
     "collapsed": false,
     "input": [
      "def fibonacci(n):\n",
      "    # Here we use the (same) formula, f(n) = f(n-1) + f(n-2)\n",
      "    # however in recursion, we compute f(n-1) and f(n-2) seperately\n",
      "    # and end up doing same calculations over and over again, resulting\n",
      "    # in a lot of inefficiency. For ex, f(4)=f(3)+f(2), while recursing on f(3)\n",
      "    # we calculate f(2), f(1), f(0) and while recursing on f(2) we calculate\n",
      "    # f(1), f(0) thereby repeating the same calculations. This increases for \n",
      "    # bigger numbers. This could have been avoided using DP, where we effectively\n",
      "    # store the values of f(0), f(1) and so on and reuse them.\n",
      "    if n <= 2:\n",
      "        return 1\n",
      "    f = []\n",
      "    f.append( 1 )\n",
      "    f.append( 1 )\n",
      "    for i in range(2,n+1):\n",
      "        f.append( f[i-1] + f[i-2] )\n",
      "    return f[n-1]\n",
      "\n",
      "print \"6th number of Fibonacci series-->\",fibonacci(6)"
     ],
     "language": "python",
     "metadata": {},
     "outputs": [
      {
       "output_type": "stream",
       "stream": "stdout",
       "text": [
        "6th number of Fibonacci series--> 8\n"
       ]
      }
     ],
     "prompt_number": 22
    },
    {
     "cell_type": "markdown",
     "metadata": {},
     "source": [
      "> Coin change problem. Calcuate the minimum number of coins required to make exact change. Simulate a vending machine.\n",
      "\n",
      "> Source(s) : \n",
      ">> http://interactivepython.org/runestone/static/pythonds/Recursion/DynamicProgramming.html\n",
      "\n",
      ">> http://jeremykun.com/2012/01/12/a-spoonful-of-python/"
     ]
    },
    {
     "cell_type": "code",
     "collapsed": false,
     "input": [
      "def get_change( change, coins = [1,5,10] ):\n",
      "    # We solve for this problem by starting with the simplest case\n",
      "    # as is usually done in DP problems. Lets say we need to make \n",
      "    # change for 11 cents and we have 1,5,10 cent coins in the machine.\n",
      "    # Lets calculate change needede from 1 to 11 cents using all types\n",
      "    # of coins. We maintain the solution in a 2d array numCoins[i,j] where\n",
      "    # say i denotes the coins and j denotes the change.\n",
      "    # Now if we use only 1 cent coins, we'll need 1 coint for 1 cent \n",
      "    # 2 coins for 2cents and 11 of those for 11 cents. Now we go to i+1'th\n",
      "    # coin value --> 5 cents coin, until 4cents we'll still use 4 1cent coins\n",
      "    # but for 5 cents we can use 1 coin, 6 cents 2 and so..on. Same is the case\n",
      "    # for 10 cent coins. Basically to determine numCoins[i,j] we have 2 options\n",
      "    # 1) numCoins[i,j] = 1 + numCoins[i,j-vi], vi is the value of the coin at ith index\n",
      "    # 2) numCoins[i,j] = numCoins[1-i,j]. The solution will be min of 1 and 2.\n",
      "    numCoins = [[0 for j in range(change + 1)]\n",
      "               for i in range(len(coins))]\n",
      "    # start with the pennies\n",
      "    numCoins[0] = range(change + 1)\n",
      "    for i in range(1,len(coins)):\n",
      "       for j in range(0, change + 1):\n",
      "          if j < coins[i]:\n",
      "             numCoins[i][j] = numCoins[i-1][j]\n",
      "          else:\n",
      "             numCoins[i][j] = min(numCoins[i-1][j],\n",
      "             1 + numCoins[i][j-coins[i]])\n",
      "\n",
      "    return numCoins[-1][-1]\n",
      "\n",
      "print get_change( 15 )"
     ],
     "language": "python",
     "metadata": {},
     "outputs": [
      {
       "output_type": "stream",
       "stream": "stdout",
       "text": [
        "2\n"
       ]
      }
     ],
     "prompt_number": 26
    },
    {
     "cell_type": "code",
     "collapsed": false,
     "input": [],
     "language": "python",
     "metadata": {},
     "outputs": []
    }
   ],
   "metadata": {}
  }
 ]
}