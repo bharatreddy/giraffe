{
 "metadata": {
  "name": "",
  "signature": "sha256:95bdb54bcf136679cb995f3d4ab2ee87afc1dc559f8e559cb921aedbd144d362"
 },
 "nbformat": 3,
 "nbformat_minor": 0,
 "worksheets": [
  {
   "cells": [
    {
     "cell_type": "markdown",
     "metadata": {},
     "source": [
      "> Dynamic Programming is a method generally applied to optimization problems. This technique involves dividing a problem into smaller sub problems with overlapping solutions. Then the solutions of these sub-problems are saved for future reference, so as to avoid solving for them over and over again.\n",
      "\n",
      ">Refs: \n",
      ">>1) http://jeremykun.com/2012/01/12/a-spoonful-of-python/\n",
      "\n",
      ">>2) http://interactivepython.org/runestone/static/pythonds/Recursion/DynamicProgramming.html"
     ]
    },
    {
     "cell_type": "markdown",
     "metadata": {},
     "source": [
      "> Find nth element of fibonacci series using Dynamic Programming.\n",
      ">> 1,1,2,3,5,8\n",
      "\n",
      "> Source : http://jeremykun.com/2012/01/12/a-spoonful-of-python/"
     ]
    },
    {
     "cell_type": "code",
     "collapsed": false,
     "input": [
      "def fibonacci(n):\n",
      "    # Here we use the (same) formula, f(n) = f(n-1) + f(n-2)\n",
      "    # however in recursion, we compute f(n-1) and f(n-2) seperately\n",
      "    # and end up doing same calculations over and over again, resulting\n",
      "    # in a lot of inefficiency. For ex, f(4)=f(3)+f(2), while recursing on f(3)\n",
      "    # we calculate f(2), f(1), f(0) and while recursing on f(2) we calculate\n",
      "    # f(1), f(0) thereby repeating the same calculations. This increases for \n",
      "    # bigger numbers. This could have been avoided using DP, where we effectively\n",
      "    # store the values of f(0), f(1) and so on and reuse them.\n",
      "    if n <= 2:\n",
      "        return 1\n",
      "    f = []\n",
      "    f.append( 1 )\n",
      "    f.append( 1 )\n",
      "    for i in range(2,n+1):\n",
      "        f.append( f[i-1] + f[i-2] )\n",
      "    return f[n-1]\n",
      "\n",
      "print \"6th number of Fibonacci series-->\",fibonacci(6)"
     ],
     "language": "python",
     "metadata": {},
     "outputs": [
      {
       "output_type": "stream",
       "stream": "stdout",
       "text": [
        "6th number of Fibonacci series--> 8\n"
       ]
      }
     ],
     "prompt_number": 21
    },
    {
     "cell_type": "code",
     "collapsed": false,
     "input": [],
     "language": "python",
     "metadata": {},
     "outputs": []
    }
   ],
   "metadata": {}
  }
 ]
}