{
 "metadata": {
  "name": "",
  "signature": "sha256:06104ac8f4f5c5378be61a423a5cfb1ea43a21ca4c721c724c62f268b19e481d"
 },
 "nbformat": 3,
 "nbformat_minor": 0,
 "worksheets": [
  {
   "cells": [
    {
     "cell_type": "markdown",
     "metadata": {},
     "source": [
      ">First we'll create a graph using a dict.\n",
      "\n",
      ">Say we have a dict G = {}, an node will be :\n",
      "initiated as a dict in G -> G[node1] = {}, G[node2] = {}\n",
      "and each edge as --> G[node1][node2] = 1, we'll use the function\n",
      "make_link(), to make the edges, Source -> Udacity: Intro to algos, lesson 3"
     ]
    },
    {
     "cell_type": "code",
     "collapsed": false,
     "input": [
      "def make_link( G, node1, node2, bidirectGraph=True ):\n",
      "    if node1 not in G:\n",
      "        G[node1] = {}\n",
      "    G[node1][node2] = 1\n",
      "    if node2 not in G:\n",
      "        G[node2] = {}\n",
      "    # Now if this is a bidirectional graph\n",
      "    if bidirectGraph:\n",
      "        G[node2][node1] = 1\n",
      "    return G"
     ],
     "language": "python",
     "metadata": {},
     "outputs": [],
     "prompt_number": 2
    },
    {
     "cell_type": "markdown",
     "metadata": {},
     "source": [
      ">Code to check disconnected components (and their sizes) in a graph.\n",
      "Source -> Udacity: Intro to algos, lesson 3"
     ]
    },
    {
     "cell_type": "code",
     "collapsed": false,
     "input": [
      "def get_graph():\n",
      "    # function to create a graph\n",
      "    # we'll make a graph with the following edges\n",
      "    edges = [ ('a', 'g'), ( 'a', 'd' ), ( 'd', 'g' ),\\\n",
      "             ( 'g', 'c' ), ( 'b', 'f' ), ( 'f', 'e' ), ( 'e', 'h' ) ]\n",
      "    graph = {}\n",
      "    for (x,y) in edges: \n",
      "        make_link( graph, x, y )\n",
      "    return graph\n",
      "\n",
      "def get_disconnected_comps():\n",
      "    G = get_graph()\n",
      "    # check for a corner case of no nodes\n",
      "    if len( G.keys() ) == 0:\n",
      "        print \"There are no nodes in this graph\"\n",
      "    # we'll keep a marked dict which basically\n",
      "    # keeps track of all the nodes that are marked\n",
      "    marked = {}\n",
      "    for node in G.keys():\n",
      "        if node not in marked:\n",
      "            print \"branch with node->\", node\n",
      "            # we'll use another function to mark the components\n",
      "            # that are connected to the node, that way we'll \n",
      "            # avoid missing any comps\n",
      "            print \"number of connections\", \\\n",
      "            get_num_conns( G, node, marked)\n",
      "\n",
      "def get_num_conns( G, node, marked ):\n",
      "    # check if the proper values are passed\n",
      "    assert node in G.keys()\n",
      "    # now start with each neighbor of the node\n",
      "    # and mark each component attached to the node\n",
      "    # repeat this process recursively to mark all edges\n",
      "    # that connect to the neighbors of the first node, thereby\n",
      "    # marking all connected components\n",
      "    num_edges = 1\n",
      "    marked[node] = True\n",
      "    for nextNode in G[node]:\n",
      "        if nextNode not in marked:\n",
      "            num_edges += get_num_conns( G, nextNode, marked )\n",
      "    return num_edges\n",
      "\n",
      "get_disconnected_comps()"
     ],
     "language": "python",
     "metadata": {},
     "outputs": [
      {
       "output_type": "stream",
       "stream": "stdout",
       "text": [
        "branch with node-> a\n",
        "number of connections 4\n",
        "branch with node-> b\n",
        "number of connections 4\n"
       ]
      }
     ],
     "prompt_number": 3
    },
    {
     "cell_type": "markdown",
     "metadata": {},
     "source": [
      ">Code to check if two components in a graph are connected\n",
      "slight modification to the question above.\n",
      "Source -> Udacity: Intro to algos, lesson 3"
     ]
    },
    {
     "cell_type": "code",
     "collapsed": false,
     "input": [
      "def check_connection( G, node1, node2, marked = {} ):\n",
      "    # loop through the neighbors of node1\n",
      "    # mark them as connected using a marked dict\n",
      "    # recursively repeat the procedure to mark all\n",
      "    # neighbors of neighbors of neighbors of ... until we exhaust\n",
      "    # all connected components of node1, if node 2 is present return\n",
      "    # True, else return False\n",
      "    for nei in G[node1]:\n",
      "        # if nei is node2, return True\n",
      "        if nei == node2:\n",
      "            return True\n",
      "        if nei not in marked:\n",
      "            marked[nei] = True\n",
      "            chkConnected = check_connection( G, nei, node2 )\n",
      "            # Note that we may be returning true in a recursive \n",
      "            # call, so check it, if yes then return True finally\n",
      "            if chkConnected:\n",
      "                return True\n",
      "    return False\n",
      "\n",
      "\n",
      "graph = get_graph()\n",
      "print check_connection( graph, 'a', 'c' ) # True\n",
      "print check_connection( graph, 'a', 'h' ) # False\n",
      "print check_connection( graph, 'b', 'h' ) # True"
     ],
     "language": "python",
     "metadata": {},
     "outputs": [
      {
       "output_type": "stream",
       "stream": "stdout",
       "text": [
        "True\n",
        "False\n",
        "True\n"
       ]
      }
     ],
     "prompt_number": 4
    },
    {
     "cell_type": "markdown",
     "metadata": {},
     "source": [
      ">Depth first search (also has BFS with minor modification), \n",
      "find path between two nodes ( if any )"
     ]
    },
    {
     "cell_type": "code",
     "collapsed": false,
     "input": [
      "def depth_first_search( G, node1, node2 ):\n",
      "    # make a dict to store paths\n",
      "    pathDict = {}\n",
      "    pathDict[node1] = [node1]\n",
      "    # We will have an openlist and use it to keep track\n",
      "    # of nodes yet to be visited\n",
      "    openList = [node1]\n",
      "    while len(openList) > 0:\n",
      "        # in BFS we do openList.pop(0), the next in breadth\n",
      "        # not in depth\n",
      "        currElement = openList.pop(-1)\n",
      "        # loop through the neighbors of currElement\n",
      "        # and populate the check for node2\n",
      "        for nei in G[currElement].keys():\n",
      "            # check if we already went through this path\n",
      "            if nei not in pathDict.keys():\n",
      "                pathDict[nei] = pathDict[currElement] + [nei]\n",
      "                if nei == node2:\n",
      "                    return pathDict[nei]\n",
      "                openList.append( nei )\n",
      "    # If all options are exhausted return No path\n",
      "    return None\n",
      "\n",
      "graph = get_graph()\n",
      "print depth_first_search( graph, 'b', 'h' )"
     ],
     "language": "python",
     "metadata": {},
     "outputs": [
      {
       "output_type": "stream",
       "stream": "stdout",
       "text": [
        "['b', 'f', 'e', 'h']\n"
       ]
      }
     ],
     "prompt_number": 5
    },
    {
     "cell_type": "markdown",
     "metadata": {},
     "source": [
      ">Dijkstra's algorithm for finding shortest path in weighted graph.\n",
      "Also we create a weighted graph to work with.\n",
      "Source - Udacity"
     ]
    },
    {
     "cell_type": "code",
     "collapsed": false,
     "input": [
      "# The way we make the weighted graph is pretty similar\n",
      "# to the way we make a normal graph, just put in the weight\n",
      "# instead of 1\n",
      "def make_weighted_link( G, node1, node2, weight, bidirectGraph=True ):\n",
      "    if node1 not in G:\n",
      "        G[node1] = {}\n",
      "    G[node1][node2] = weight\n",
      "    if node2 not in G:\n",
      "        G[node2] = {}\n",
      "    # Now if this is a bidirectional graph\n",
      "    if bidirectGraph:\n",
      "        G[node2][node1] = weight\n",
      "    return G\n",
      "\n",
      "def get_weighted_graph( type1=True ):\n",
      "    # function to create a graph\n",
      "    # we'll make a graph with the following edges\n",
      "    if type1:\n",
      "        edges = [ ('a', 'b', 5), ( 'a', 'c', 2 ), ( 'c', 'd', 3 ),\\\n",
      "                 ( 'd', 'e', 10 ), ( 'a', 'e', 20 ), ( 'b', 'f', 30 ), ( 'd', 'f', 20 ) ]\n",
      "    else:\n",
      "        edges = [ ('a', 'g', 20), ( 'a', 'd', 3 ), ( 'd', 'g', 5 ),\\\n",
      "             ( 'g', 'c', 1 ), ( 'b', 'f', 3 ), ( 'f', 'e', 5 ), ( 'e', 'h', 4 ) ]\n",
      "    graph = {}\n",
      "    for (x, y, z) in edges: \n",
      "        make_weighted_link( graph, x, y, z )\n",
      "    return graph"
     ],
     "language": "python",
     "metadata": {},
     "outputs": [],
     "prompt_number": 6
    },
    {
     "cell_type": "code",
     "collapsed": false,
     "input": [
      "def dijkstra(G, node1, node2):\n",
      "    # Now unlike BFS or DFS we cant just mark the node down\n",
      "    # once we hit it in the search. We need to make sure that \n",
      "    # is the shortest path by weight. We maintain two dicts, one\n",
      "    # tempDist and the other finalDist. temp is updated every time we\n",
      "    # find a new node or same node with lower weight. After getting\n",
      "    # the first degree connections from a node we find the node with \n",
      "    # the shortest distance and push it to the finalDist repeat\n",
      "    # until we hit the node or exhaust all options.\n",
      "    finalDist = {}\n",
      "    tempDist = {}\n",
      "    # for the route\n",
      "    tempRoute = {}\n",
      "    finalRoute = {}\n",
      "    # right now we just have the starting node\n",
      "    tempDist[node1] = 0\n",
      "    # if you want the route\n",
      "    tempRoute[node1] = [node1]\n",
      "    # until we are sure about all final distances, we loop\n",
      "    while len( tempDist.keys() ) > 0 :\n",
      "        # of the existing list of nodes in temp_dist get the node\n",
      "        # with the lowest weight. This can be set up in the final\n",
      "        # dist, since we no we can't get to this node in a better way\n",
      "        # for example, if a->b has weight 10, a->c has 2 and c->b has 3\n",
      "        # we make a->c with weight 2 as final dist as we know any other way\n",
      "        # to c ( here via node b) will be atleast weighing 10. In the same\n",
      "        # iteration we put a->b as 10 in the tempDist. But in the next iteration\n",
      "        # we find that a->b with the route a->c->b weighs 5, so we update tempDist\n",
      "        # with weight 5 and remove 10. keep moving until we exahaust all paths\n",
      "        # use a func to get min dist of a node not present in finalDist.\n",
      "        currNode = get_min_node( tempDist )\n",
      "        # push it to finalDist\n",
      "        finalDist[currNode] = tempDist[currNode]\n",
      "        # for the route\n",
      "        finalRoute[currNode] = tempRoute[currNode]\n",
      "        # to avoid getting the same temp node again and again\n",
      "        # delete the node from temp\n",
      "        del tempDist[currNode]\n",
      "        if currNode == node2:\n",
      "            return finalRoute[currNode], finalDist[currNode]\n",
      "        for nei in G[currNode].keys():\n",
      "            # this will break the loop if node1 and node2 \n",
      "            # are not connected\n",
      "            if nei in finalDist:\n",
      "                continue\n",
      "            # if node is not present in the tempDist\n",
      "            if nei not in tempDist:\n",
      "                tempDist[nei] = finalDist[currNode] + G[currNode][nei]\n",
      "                tempRoute[nei] = tempRoute[currNode] + [nei]\n",
      "            # if present check if the new weight is less than old one\n",
      "            elif finalDist[currNode] + G[currNode][nei] < tempDist[nei]:\n",
      "                tempDist[nei] = finalDist[currNode] + G[currNode][nei]\n",
      "                tempRoute[nei] = tempRoute[currNode] + [nei]\n",
      "    return None\n",
      "\n",
      "def get_min_node( temp ):\n",
      "    # we ideally need to use heaps\n",
      "    # for faster algo, but for now I'll stick\n",
      "    # with a poor mans algo which is time inefficient.\n",
      "    # There is a heaps chapter now which has a sorting\n",
      "    # function which can be employed now.\n",
      "    currMinWeight = 1e11\n",
      "    minNode = None\n",
      "    for node in temp.keys():\n",
      "        if temp[node] < currMinWeight:\n",
      "            currMinWeight = temp[node]\n",
      "            minNode = node\n",
      "    return minNode\n",
      "\n",
      "graph = get_weighted_graph( type1=True )\n",
      "print dijkstra( graph, 'a', 'f' )# should be 15\n",
      "print dijkstra( graph, 'a', 'x' )# should be None, not connected"
     ],
     "language": "python",
     "metadata": {},
     "outputs": [
      {
       "output_type": "stream",
       "stream": "stdout",
       "text": [
        "(['a', 'c', 'd', 'f'], 25)\n",
        "None\n"
       ]
      }
     ],
     "prompt_number": 7
    }
   ],
   "metadata": {}
  }
 ]
}