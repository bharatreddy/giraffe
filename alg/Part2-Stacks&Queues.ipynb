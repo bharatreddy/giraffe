{
 "metadata": {
  "name": "",
  "signature": "sha256:df336e55476188efc3292709963b77867a56fc1cd46c82d3e7bd11d9e7d6ecf3"
 },
 "nbformat": 3,
 "nbformat_minor": 0,
 "worksheets": [
  {
   "cells": [
    {
     "cell_type": "markdown",
     "metadata": {},
     "source": [
      "> Stack : A simple last in first out data structure. \n",
      "We implement it using a list. To insert a new element: stack.insert(0,item), to delete a new element stack.pop(0)\n",
      "\n",
      "> Ref : http://interactivepython.org/runestone/static/pythonds/BasicDS/WhatisaStack.html"
     ]
    },
    {
     "cell_type": "markdown",
     "metadata": {},
     "source": [
      "> Given a string of paranthesis. Read them from left to right and check if they are balanced.\n",
      "\n",
      "> Source : http://interactivepython.org/runestone/static/pythonds/BasicDS/SimpleBalancedParentheses.html"
     ]
    },
    {
     "cell_type": "code",
     "collapsed": false,
     "input": [
      "def balanced_paranthesis( paranthesis ):\n",
      "    # A detailed explanation of the algo is given in the source.\n",
      "    # It is quite straight forward. The closing symbols match the \n",
      "    # opening symbols in the reverse order of their appearance. Infact \n",
      "    # this suggests that we need to use a stack.\n",
      "    # So we'll keep a stack and insert a opening paranthesis when we\n",
      "    # encounter one, if we get a closing paranthesis we'll pop one from\n",
      "    # the list.\n",
      "    parStack = []\n",
      "    isBalanced = True\n",
      "    for p in paranthesis:\n",
      "        if p == '(':\n",
      "            parStack.insert( 0, p )\n",
      "        else:\n",
      "            if len( parStack ) == 0:\n",
      "                isBalanced = False\n",
      "                break\n",
      "            else:\n",
      "                parStack.pop(0)\n",
      "    if isBalanced:\n",
      "        return True\n",
      "    return False\n",
      "\n",
      "par1 = '(()(())())'\n",
      "print \"par1 is balanced ? -->\", balanced_paranthesis(par1)\n",
      "par2 = '(()())())'\n",
      "print \"par2 is balanced ? -->\", balanced_paranthesis(par2)"
     ],
     "language": "python",
     "metadata": {},
     "outputs": [
      {
       "output_type": "stream",
       "stream": "stdout",
       "text": [
        "par1 is balanced ? --> True\n",
        "par2 is balanced ? --> False\n"
       ]
      }
     ],
     "prompt_number": 2
    },
    {
     "cell_type": "markdown",
     "metadata": {},
     "source": [
      "> Convert a decimal number to binary form.\n",
      "\n",
      "> Source : http://interactivepython.org/runestone/static/pythonds/BasicDS/ConvertingDecimalNumberstoBinaryNumbers.html"
     ]
    },
    {
     "cell_type": "code",
     "collapsed": false,
     "input": [
      "def decimal_binary( number, binStack=[] ):\n",
      "    # We'll use the simple divide by 2 method.\n",
      "    # keep dividing the number(and ressulting quotients)\n",
      "    # by 2 and store the remainders in a stack. Unstacking\n",
      "    # will give us the binary form.\n",
      "    # We'll use recursive function, so a base case first.\n",
      "    if number <= 0:\n",
      "        # We'll use a helper function to pring/unstack\n",
      "        return un_stack(binStack)\n",
      "    num = number//2\n",
      "    binStack.insert( 0, number%2 )\n",
      "    return decimal_binary( num, binStack=binStack )\n",
      "    \n",
      "def un_stack(stack):\n",
      "    binStr = ''\n",
      "    while stack:\n",
      "        binStr += str( stack.pop(0) )\n",
      "    return binStr\n",
      "\n",
      "decNumInp = 42\n",
      "print \"binary form of->\", decNumInp, '-->', decimal_binary(decNumInp)"
     ],
     "language": "python",
     "metadata": {},
     "outputs": [
      {
       "output_type": "stream",
       "stream": "stdout",
       "text": [
        "binary form of-> 42 --> 101010\n"
       ]
      }
     ],
     "prompt_number": 7
    },
    {
     "cell_type": "markdown",
     "metadata": {},
     "source": [
      "> Queue : A simple first in first out data structure. An opposite of stack. We implement it using a list. To insert a new element: stack.insert(0,item), to delete a new element stack.pop()\n",
      ">>Ref : http://interactivepython.org/runestone/static/pythonds/BasicDS/WhatIsaQueue.html\n",
      "\n",
      "> Deque : A double ended queue. We can add and remove items from both front and back.\n",
      ">> Ref : http://interactivepython.org/runestone/static/pythonds/BasicDS/WhatIsaDeque.html"
     ]
    },
    {
     "cell_type": "markdown",
     "metadata": {},
     "source": [
      "> Check if a given string is a palindrome.\n",
      "\n",
      "> Source : http://interactivepython.org/runestone/static/pythonds/BasicDS/PalindromeChecker.html"
     ]
    },
    {
     "cell_type": "code",
     "collapsed": false,
     "input": [
      "def palindrome_check( inpStr ):\n",
      "    # We'll use properties of a deque object\n",
      "    # to check if a string is a palindrome.\n",
      "    # if a string is a palindrome, we can start\n",
      "    # removing objects from the beginning and the end\n",
      "    # and they should be the same until we run out of \n",
      "    # characters or just one char is left.\n",
      "    inpStr = list(inpStr)\n",
      "    while len( inpStr ) > 1:\n",
      "        s = inpStr.pop(0)\n",
      "        e = inpStr.pop()\n",
      "        if s != e:\n",
      "            return False\n",
      "    return True\n",
      "\n",
      "print palindrome_check( 'radar' )\n",
      "print palindrome_check( 'not radar' )"
     ],
     "language": "python",
     "metadata": {},
     "outputs": [
      {
       "output_type": "stream",
       "stream": "stdout",
       "text": [
        "True\n",
        "False\n"
       ]
      }
     ],
     "prompt_number": 21
    },
    {
     "cell_type": "markdown",
     "metadata": {},
     "source": [
      "> Implement a queue ( the enqueue and dequeue operations ) using two stacks.\n",
      "  Here we'll use insert(0,item) and pop(0) as stack functions to insert and delete.\n",
      "\n",
      "> Source : http://www.geeksforgeeks.org/queue-using-stacks/"
     ]
    },
    {
     "cell_type": "code",
     "collapsed": false,
     "input": [
      "# A simple way to do this is to make dequeue operation \n",
      "# expensive (we can do the other way around as well).\n",
      "# This method is a bit better. Here we enqueue by\n",
      "# just inserting the element at the top of a stack \n",
      "# (say stack1). Now for deque, we unstack every element\n",
      "# from stack1 and enter it into a different stack ( say stack2 ).\n",
      "# now the order in stack2 is reversed, so we can remove the element\n",
      "# from stack2 and we'll be simulating an dequeue operation.\n",
      "def enqueue_from_stacks( stack1, element ):\n",
      "    stack1.insert( 0, element )\n",
      "    return stack1\n",
      "\n",
      "def dequeue_from_stacks( stack1 ):\n",
      "    # push all elements from stack1 to stack2\n",
      "    if len(stack1) == 0:\n",
      "        return None\n",
      "    stack2 = []\n",
      "    while len(stack1) > 0:\n",
      "        s = stack1.pop(0)\n",
      "        stack2.insert( 0, s )\n",
      "    return stack2.pop( 0 )\n",
      "\n",
      "\n",
      "q = [ 4, 3, 2, 1 ]\n",
      "print 'enqueue',enqueue_from_stacks(q, 5)\n",
      "print 'dequeue',dequeue_from_stacks(q)"
     ],
     "language": "python",
     "metadata": {},
     "outputs": [
      {
       "output_type": "stream",
       "stream": "stdout",
       "text": [
        " enqueue [5, 4, 3, 2, 1]\n",
        "dequeue 1\n"
       ]
      }
     ],
     "prompt_number": 23
    },
    {
     "cell_type": "markdown",
     "metadata": {},
     "source": [
      "> Given an array of sequence of colors, Find a pair (both colors adjacent to each other) which are the same color. Now, remove that pair. After this removal, if there are further pairs of same color then remove that as well and so on. Finally, find the maximum number of pairs.\n",
      "\n",
      "> Example :\n",
      ">> Say colors array is -> R G B B G R Y, now BB is a pair, remove it ---> R G G R Y, now GG is a pair, remove it --> R R Y, now RR is a pair, remove it, only Y is left. So there are 3 such pairs.\n",
      "\n",
      "> Source : http://www.careercup.com/question?id=5070235686141952"
     ]
    },
    {
     "cell_type": "code",
     "collapsed": false,
     "input": [
      "def count_pairs( colors ):\n",
      "    # We can use stacks to work with this. We'll start pushing\n",
      "    # each of the colors (from the beginning) into a stack. If the next\n",
      "    # color is same as the last one in the stack, pop off the last color\n",
      "    # Use a counter to keep track of the number of pops.\n",
      "    colorStack = []\n",
      "    while c in color:\n",
      "    \n",
      "    \n",
      "print count_pairs( ['R', 'G', 'B', 'B', 'G', 'R', 'Y'] )"
     ],
     "language": "python",
     "metadata": {},
     "outputs": []
    }
   ],
   "metadata": {}
  }
 ]
}