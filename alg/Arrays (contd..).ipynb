{
 "metadata": {
  "name": "",
  "signature": "sha256:9ea5b1b7ccf6a69b6376fd01d05b0fc3c5bc7edea754b1e880544d2d3602b766"
 },
 "nbformat": 3,
 "nbformat_minor": 0,
 "worksheets": [
  {
   "cells": [
    {
     "cell_type": "markdown",
     "metadata": {},
     "source": [
      "> Construct a Product Array (say prod) from a given array (say arr) such that prod[i] is equal to the product of all the elements of arr except arr[i]. NOTE : no using division operator.\n",
      "\n",
      "> Source : http://www.geeksforgeeks.org/a-product-array-puzzle/"
     ]
    },
    {
     "cell_type": "code",
     "collapsed": false,
     "input": [
      "def get_product( l ):\n",
      "    # This can be done in O(n) time using additional O(n) space.\n",
      "    # We'll have to maintain two arrays, a lower array ( say lower )\n",
      "    # containing product of all elements of arr to the left of index 'i'\n",
      "    # and a upper array (upper) containing product of all elements to the \n",
      "    # right of 'i'. Now the dot product of upper and lower will be the required\n",
      "    # product. For example say we have array of 3 elements a,prod[2] = a[0]*a[1]*a[2]\n",
      "    # Where a[0]*a[1] is the lower array and a[2] is the upper array.\n",
      "    # First get the lower array\n",
      "    element = 1 \n",
      "    lower = [1] * len(l)\n",
      "    for i in range( len(l) ):\n",
      "        lower[i] = element\n",
      "        element *= l[i]\n",
      "    # Loop again and get the upper array\n",
      "    element = 1\n",
      "    upper = [1] * len(l)\n",
      "    for i in range( len(l),0,-1 ):\n",
      "        upper[i-1] = element\n",
      "        element *= l[i-1]\n",
      "    # Now make the final loop and get the product\n",
      "    prod = []\n",
      "    for (i,j) in zip( lower,upper ):\n",
      "        prod.append( i*j )\n",
      "    return prod\n",
      "\n",
      "l = [ 10, 20, 30 ]\n",
      "print get_product(l)"
     ],
     "language": "python",
     "metadata": {},
     "outputs": [
      {
       "output_type": "stream",
       "stream": "stdout",
       "text": [
        "[600, 300, 200]\n"
       ]
      }
     ],
     "prompt_number": 11
    },
    {
     "cell_type": "markdown",
     "metadata": {},
     "source": [
      "> Given an array A and a number x, check for a pair of numbers in A that sum to x\n",
      "\n",
      "> Source : http://www.geeksforgeeks.org/write-a-c-program-that-given-a-set-a-of-n-numbers-and-another-number-x-determines-whether-or-not-there-exist-two-elements-in-s-whose-sum-is-exactly-x/"
     ]
    },
    {
     "cell_type": "code",
     "collapsed": false,
     "input": [
      "# we'll use two methods for doing this,\n",
      "# one takes O(n) time and O(n) space and the\n",
      "# other takes O(nlogn) space.\n",
      "def check_sum_method1( l, x ):\n",
      "    # this is a simple and stright forward method\n",
      "    # which takes O(n) time and space. We store each \n",
      "    # element in a dict (hashmap) as we loop through \n",
      "    # the array and check if x-element is in the dict\n",
      "    elementsDict = {}\n",
      "    for i in l:\n",
      "        if x-i in elementsDict:\n",
      "            return True\n",
      "        elementsDict[i] = True\n",
      "    return False\n",
      "    \n",
      "l = [ 1, 4, 45, 6, 10, -8 ]\n",
      "x = 16\n",
      "print \"method-1\", check_sum_method1( l, x )"
     ],
     "language": "python",
     "metadata": {},
     "outputs": [
      {
       "output_type": "stream",
       "stream": "stdout",
       "text": [
        "method-1 True\n"
       ]
      }
     ],
     "prompt_number": 3
    },
    {
     "cell_type": "code",
     "collapsed": false,
     "input": [],
     "language": "python",
     "metadata": {},
     "outputs": []
    }
   ],
   "metadata": {}
  }
 ]
}