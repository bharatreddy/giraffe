{
 "metadata": {
  "name": "",
  "signature": "sha256:66984b0243d6b98573e05ac8b9ddc7045270fe412826eea68fefeff1e9f3eab2"
 },
 "nbformat": 3,
 "nbformat_minor": 0,
 "worksheets": [
  {
   "cells": [
    {
     "cell_type": "markdown",
     "metadata": {},
     "source": [
      "> Stack : A simple last in first out data structure. \n",
      "We implement it using a list. To insert a new element: stack.insert(0,item), to delete a new element stack.pop(0)\n",
      "\n",
      "> Ref : http://interactivepython.org/runestone/static/pythonds/BasicDS/WhatisaStack.html"
     ]
    },
    {
     "cell_type": "markdown",
     "metadata": {},
     "source": [
      "> Given a string of paranthesis. Read them from left to right and check if they are balanced.\n",
      "\n",
      "> Source : http://interactivepython.org/runestone/static/pythonds/BasicDS/SimpleBalancedParentheses.html"
     ]
    },
    {
     "cell_type": "code",
     "collapsed": false,
     "input": [
      "def balanced_paranthesis( paranthesis ):\n",
      "    # A detailed explanation of the algo is given in the source.\n",
      "    # It is quite straight forward. The closing symbols match the \n",
      "    # opening symbols in the reverse order of their appearance. Infact \n",
      "    # this suggests that we need to use a stack.\n",
      "    # So we'll keep a stack and insert a opening paranthesis when we\n",
      "    # encounter one, if we get a closing paranthesis we'll pop one from\n",
      "    # the list.\n",
      "    parStack = []\n",
      "    isBalanced = True\n",
      "    for p in paranthesis:\n",
      "        if p == '(':\n",
      "            parStack.insert( 0, p )\n",
      "        else:\n",
      "            if len( parStack ) == 0:\n",
      "                isBalanced = False\n",
      "                break\n",
      "            else:\n",
      "                parStack.pop(0)\n",
      "    if isBalanced:\n",
      "        return True\n",
      "    return False\n",
      "\n",
      "par1 = '(()(())())'\n",
      "print \"par1 is balanced ? -->\", balanced_paranthesis(par1)\n",
      "par2 = '(()())())'\n",
      "print \"par2 is balanced ? -->\", balanced_paranthesis(par2)"
     ],
     "language": "python",
     "metadata": {},
     "outputs": [
      {
       "output_type": "stream",
       "stream": "stdout",
       "text": [
        "par1 is balanced ? --> True\n",
        "par2 is balanced ? --> False\n"
       ]
      }
     ],
     "prompt_number": 2
    },
    {
     "cell_type": "markdown",
     "metadata": {},
     "source": [
      "> Convert a decimal number to binary form.\n",
      "\n",
      "> Source : http://interactivepython.org/runestone/static/pythonds/BasicDS/ConvertingDecimalNumberstoBinaryNumbers.html"
     ]
    },
    {
     "cell_type": "code",
     "collapsed": false,
     "input": [
      "def decimal_binary( number, binStack=[] ):\n",
      "    # We'll use the simple divide by 2 method.\n",
      "    # keep dividing the number(and ressulting quotients)\n",
      "    # by 2 and store the remainders in a stack. Unstacking\n",
      "    # will give us the binary form.\n",
      "    # We'll use recursive function, so a base case first.\n",
      "    if number <= 0:\n",
      "        # We'll use a helper function to pring/unstack\n",
      "        return un_stack(binStack)\n",
      "    num = number//2\n",
      "    binStack.insert( 0, number%2 )\n",
      "    return decimal_binary( num, binStack=binStack )\n",
      "    \n",
      "def un_stack(stack):\n",
      "    binStr = ''\n",
      "    while stack:\n",
      "        binStr += str( stack.pop(0) )\n",
      "    return binStr\n",
      "\n",
      "decNumInp = 42\n",
      "print \"binary form of->\", decNumInp, '-->', decimal_binary(decNumInp)"
     ],
     "language": "python",
     "metadata": {},
     "outputs": [
      {
       "output_type": "stream",
       "stream": "stdout",
       "text": [
        "binary form of-> 42 --> 101010\n"
       ]
      }
     ],
     "prompt_number": 7
    },
    {
     "cell_type": "markdown",
     "metadata": {},
     "source": [
      "> Queue : A simple first in first out data structure. An opposite of stack. We implement it using a list. To insert a new element: stack.insert(0,item), to delete a new element stack.pop()\n",
      ">>Ref : http://interactivepython.org/runestone/static/pythonds/BasicDS/WhatIsaQueue.html\n",
      "\n",
      "> Deque : A double ended queue. We can add and remove items from both front and back.\n",
      ">> Ref : http://interactivepython.org/runestone/static/pythonds/BasicDS/WhatIsaDeque.html"
     ]
    },
    {
     "cell_type": "markdown",
     "metadata": {},
     "source": [
      "> Check if a given string is a palindrome.\n",
      "\n",
      "> Source : http://interactivepython.org/runestone/static/pythonds/BasicDS/PalindromeChecker.html"
     ]
    },
    {
     "cell_type": "code",
     "collapsed": false,
     "input": [],
     "language": "python",
     "metadata": {},
     "outputs": []
    }
   ],
   "metadata": {}
  }
 ]
}