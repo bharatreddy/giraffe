{
 "metadata": {
  "name": "",
  "signature": "sha256:ece31065605ea6cc0ffe6a6e8f5c25c068f155639de4b5f3034530125621d739"
 },
 "nbformat": 3,
 "nbformat_minor": 0,
 "worksheets": [
  {
   "cells": [
    {
     "cell_type": "markdown",
     "metadata": {},
     "source": [
      "> Stack : A simple last in first out data structure. \n",
      "We implement it using a list. To insert a new element: stack.insert(0,item), to delete a new element stack.pop(0)\n",
      "\n",
      "> Ref : http://interactivepython.org/runestone/static/pythonds/BasicDS/WhatisaStack.html"
     ]
    },
    {
     "cell_type": "markdown",
     "metadata": {},
     "source": [
      "> Given a string of paranthesis. Read them from left to right and check if they are balanced.\n",
      "\n",
      "> Source : http://interactivepython.org/runestone/static/pythonds/BasicDS/SimpleBalancedParentheses.html"
     ]
    },
    {
     "cell_type": "code",
     "collapsed": false,
     "input": [
      "def balanced_paranthesis( paranthesis ):\n",
      "    # A detailed explanation of the algo is given in the source.\n",
      "    # It is quite straight forward. The closing symbols match the \n",
      "    # opening symbols in the reverse order of their appearance. Infact \n",
      "    # this suggests that we need to use a stack.\n",
      "    # So we'll keep a stack and insert a opening paranthesis when we\n",
      "    # encounter one, if we get a closing paranthesis we'll pop one from\n",
      "    # the list.\n",
      "    parStack = []\n",
      "    isBalanced = True\n",
      "    for p in paranthesis:\n",
      "        if p == '(':\n",
      "            parStack.insert( 0, p )\n",
      "        else:\n",
      "            if len( parStack ) == 0:\n",
      "                isBalanced = False\n",
      "                break\n",
      "            else:\n",
      "                parStack.pop(0)\n",
      "    if isBalanced:\n",
      "        return True\n",
      "    return False\n",
      "\n",
      "par1 = '(()(())())'\n",
      "print \"par1 is balanced ? -->\", balanced_paranthesis(par1)\n",
      "par2 = '(()())())'\n",
      "print \"par2 is balanced ? -->\", balanced_paranthesis(par2)"
     ],
     "language": "python",
     "metadata": {},
     "outputs": [
      {
       "output_type": "stream",
       "stream": "stdout",
       "text": [
        "par1 is balanced ? --> True\n",
        "par2 is balanced ? --> False\n"
       ]
      }
     ],
     "prompt_number": 2
    },
    {
     "cell_type": "code",
     "collapsed": false,
     "input": [],
     "language": "python",
     "metadata": {},
     "outputs": []
    }
   ],
   "metadata": {}
  }
 ]
}