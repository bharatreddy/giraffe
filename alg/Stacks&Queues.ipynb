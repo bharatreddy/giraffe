{
 "metadata": {
  "name": "",
  "signature": "sha256:ff08eebccf4177a45204a5275868c3518df66bec267a7701faa58626d218eca8"
 },
 "nbformat": 3,
 "nbformat_minor": 0,
 "worksheets": [
  {
   "cells": [
    {
     "cell_type": "markdown",
     "metadata": {},
     "source": [
      "> Stack : A last in first out data structure. \n",
      "We implement it using a list. To insert a new element: stack.insert(0,item), to delete a new element stack.pop(0)\n",
      "\n",
      "> Ref : http://interactivepython.org/runestone/static/pythonds/BasicDS/WhatisaStack.html"
     ]
    },
    {
     "cell_type": "code",
     "collapsed": false,
     "input": [],
     "language": "python",
     "metadata": {},
     "outputs": []
    }
   ],
   "metadata": {}
  }
 ]
}