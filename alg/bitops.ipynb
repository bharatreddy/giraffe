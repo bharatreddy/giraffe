{
 "metadata": {
  "name": "",
  "signature": "sha256:a33369c3db15a9cd033767fa1a179dbc27b9e62c7621220b1703f214874565c7"
 },
 "nbformat": 3,
 "nbformat_minor": 0,
 "worksheets": [
  {
   "cells": [
    {
     "cell_type": "code",
     "collapsed": false,
     "input": [
      "# You have two numbers decomposed in binary representation, \n",
      "# write a function that sums them and returns the result. \n",
      "# Example:\n",
      "# Input: 100011, 100100 \n",
      "# Output: 1000111\n",
      "### Source - CareerCup\n",
      "def binAdder( inp1, inp2 ):\n",
      "    #convert to str\n",
      "    inp1 = str(inp1)\n",
      "    inp2 = str(inp2)\n",
      "    # get the bigger of the numbers to loop through\n",
      "    # also reverse the arrays, we loop through \n",
      "    # from lowest significant bit\n",
      "    if len(inp1) >= len(inp2):\n",
      "        bigger = inp1[::-1]\n",
      "        smaller = inp2[::-1]\n",
      "    else:\n",
      "        bigger = inp2[::-1]\n",
      "        smaller = inp1[::-1]\n",
      "    # we need a carry bit as well\n",
      "    carry = 0\n",
      "    output = ''\n",
      "    for i in range(len(bigger)):\n",
      "        # check if we are at the end of smaller array\n",
      "        if i == len(smaller):\n",
      "            # check if prev carry is 0\n",
      "            outBit = str( int( bigger[i] ) | carry )\n",
      "            carry = carry & int( bigger[i] )\n",
      "        else:\n",
      "            # Now we need the xor gate here since in binary 1+1 = 0 with carry 1\n",
      "            # and 1+1+1 = 1 with carry 1\n",
      "            outBit = str( carry ^ int( bigger[i] ) ^ int( smaller[i] ) )\n",
      "            carry = ( carry & int( bigger[i] ) ) or\\\n",
      "            ( carry & int( smaller[i] ) ) or \\\n",
      "            ( int( bigger[i] ) & int( smaller[i] ) )\n",
      "        output = outBit + output\n",
      "    # Sometimes a carry is left out at the end\n",
      "    if carry == 1:\n",
      "        output = str(carry) + output\n",
      "    return output\n",
      "\n",
      "#test\n",
      "print binAdder( 100011, 100100 )"
     ],
     "language": "python",
     "metadata": {},
     "outputs": [
      {
       "output_type": "stream",
       "stream": "stdout",
       "text": [
        "1000111\n"
       ]
      }
     ],
     "prompt_number": 62
    },
    {
     "cell_type": "code",
     "collapsed": false,
     "input": [
      "# Given an int, write code to return the\n",
      "# number of bits that are 1 in O(m) time,\n",
      "# where m is the number of bits that are 1.\n",
      "### Source - CareerCup\n",
      "def count1bits(inp):\n",
      "    if inp == 0:\n",
      "        return 0\n",
      "    # If inp is power of 2, then inp&inp-1 == 0\n",
      "    # pow of 2 and the number 1 less than it,\n",
      "    # always have complimentary bits\n",
      "    if inp & inp-1 == 0:\n",
      "        return 1\n",
      "    # We count the number of bits by using a neat trick\n",
      "    # by using inp&inp-1, for example 15&14 returns 14\n",
      "    # 14&13 returns 12. If we look at it in terms of bits,\n",
      "    # 15-->1111, 14--> 1110, 15&14-->1110, similarly 14&13-->1100\n",
      "    # we are taking 1's out until we hit a power of 2, which \n",
      "    # means only 1 more is left\n",
      "    return 1 + count1bits( inp & inp-1 )\n",
      "    \n",
      "print count1bits(31)"
     ],
     "language": "python",
     "metadata": {},
     "outputs": [
      {
       "output_type": "stream",
       "stream": "stdout",
       "text": [
        "5\n"
       ]
      }
     ],
     "prompt_number": 104
    },
    {
     "cell_type": "code",
     "collapsed": false,
     "input": [
      "# Louise and Richard play a game. They have a counter set to N.\n",
      "# Louise gets the first turn and the turns alternate thereafter.\n",
      "# In the game, they perform the following operations. If N is not a power of 2,\n",
      "# they reduce the counter by the largest power of 2 less than N.\n",
      "# If N is a power of 2, they reduce the counter by half of N.\n",
      "# The resultant value is the new N which is again used for subsequent operations.\n",
      "# The game ends when the counter reduces to 1, i.e., N == 1, \n",
      "# and the last person to make a valid move wins.\n",
      "# Given N, your task is to find the winner of the game.\n",
      "# NOTE : If they set counter to 1, Richard wins, \n",
      "# because its Louise' turn and she cannot make a move.\n",
      "### Source - Hackerrank\n",
      "def game(N):\n",
      "    if N < 1:\n",
      "        return 'Enter a number > 1'\n",
      "    if N == 1:\n",
      "        return 'Richard wins!'\n",
      "    players = [ 'Louise', 'Richard' ]\n",
      "    counter = 0\n",
      "    while N >= 1:\n",
      "        if N == 1:\n",
      "            break\n",
      "        # As per rules check if N is a power of 2\n",
      "        # Like in prev problems, if a number is power\n",
      "        # of 2, N&N-1 = 0\n",
      "        if N&(N-1) == 0:\n",
      "            N = N >> 1\n",
      "        else:\n",
      "            # use a Func to get the largest pow of 2\n",
      "            # less than N\n",
      "            N = N-get_largest_pow2(N)\n",
      "        counter = (counter + 1) % 2\n",
      "    if counter == 1:\n",
      "        print 'Louise'\n",
      "    else:\n",
      "        print 'Richard'\n",
      "            \n",
      "def get_largest_pow2(N):\n",
      "    if N & N-1 == 0:\n",
      "        return N\n",
      "    return get_largest_pow2( N & (N - 1) )\n",
      "            \n",
      "\n",
      "print game(6703734870638684097)"
     ],
     "language": "python",
     "metadata": {},
     "outputs": [
      {
       "output_type": "stream",
       "stream": "stdout",
       "text": [
        "Richard\n",
        "None\n"
       ]
      }
     ],
     "prompt_number": 50
    }
   ],
   "metadata": {}
  }
 ]
}