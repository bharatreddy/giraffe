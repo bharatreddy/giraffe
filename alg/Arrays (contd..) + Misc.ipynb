{
 "metadata": {
  "name": "",
  "signature": "sha256:df6b8becd2de9e3f85aaab2e848176061240a95fdacc63f39c5da65838f5b380"
 },
 "nbformat": 3,
 "nbformat_minor": 0,
 "worksheets": [
  {
   "cells": [
    {
     "cell_type": "markdown",
     "metadata": {},
     "source": [
      "> Construct a Product Array (say prod) from a given array (say arr) such that prod[i] is equal to the product of all the elements of arr except arr[i]. NOTE : no using division operator.\n",
      "\n",
      "> Source : http://www.geeksforgeeks.org/a-product-array-puzzle/"
     ]
    },
    {
     "cell_type": "code",
     "collapsed": false,
     "input": [
      "def get_product( l ):\n",
      "    # This can be done in O(n) time using additional O(n) space.\n",
      "    # We'll have to maintain two arrays, a lower array ( say lower )\n",
      "    # containing product of all elements of arr to the left of index 'i'\n",
      "    # and a upper array (upper) containing product of all elements to the \n",
      "    # right of 'i'. Now the dot product of upper and lower will be the required\n",
      "    # product. For example say we have array of 3 elements a,prod[2] = a[0]*a[1]*a[2]\n",
      "    # Where a[0]*a[1] is the lower array and a[2] is the upper array.\n",
      "    # First get the lower array\n",
      "    element = 1 \n",
      "    lower = [1] * len(l)\n",
      "    for i in range( len(l) ):\n",
      "        lower[i] = element\n",
      "        element *= l[i]\n",
      "    # Loop again and get the upper array\n",
      "    element = 1\n",
      "    upper = [1] * len(l)\n",
      "    for i in range( len(l),0,-1 ):\n",
      "        upper[i-1] = element\n",
      "        element *= l[i-1]\n",
      "    # Now make the final loop and get the product\n",
      "    prod = []\n",
      "    for (i,j) in zip( lower,upper ):\n",
      "        prod.append( i*j )\n",
      "    return prod\n",
      "\n",
      "l = [ 10, 20, 30 ]\n",
      "print get_product(l)"
     ],
     "language": "python",
     "metadata": {},
     "outputs": [
      {
       "output_type": "stream",
       "stream": "stdout",
       "text": [
        "[600, 300, 200]\n"
       ]
      }
     ],
     "prompt_number": 11
    },
    {
     "cell_type": "markdown",
     "metadata": {},
     "source": [
      "> Given an array A and a number x, check for a pair of numbers in A that sum to x\n",
      "\n",
      "> Source : http://www.geeksforgeeks.org/write-a-c-program-that-given-a-set-a-of-n-numbers-and-another-number-x-determines-whether-or-not-there-exist-two-elements-in-s-whose-sum-is-exactly-x/"
     ]
    },
    {
     "cell_type": "code",
     "collapsed": false,
     "input": [
      "# we'll use two methods for doing this,\n",
      "# one takes O(n) time and O(n) space and the\n",
      "# other takes O(nlogn) space.\n",
      "def check_sum_method1( l, x ):\n",
      "    # this is a simple and stright forward method\n",
      "    # which takes O(n) time and space. We store each \n",
      "    # element in a dict (hashmap) as we loop through \n",
      "    # the array and check if x-element is in the dict\n",
      "    elementsDict = {}\n",
      "    for i in l:\n",
      "        if x-i in elementsDict:\n",
      "            return True\n",
      "        elementsDict[i] = True\n",
      "    return False\n",
      "\n",
      "def check_sum_method2( l, x ):\n",
      "    # The second method to approach this problem is by\n",
      "    # sorting the list O(nlogn) and then using a quicksort\n",
      "    # type of approach where in we have two pointers, one at\n",
      "    # the beginning of the list and the other at the end. Lets\n",
      "    # call both these p1 and p2 respectively, if l[p1] + l[p2] = x\n",
      "    # then return True, we are done. Else if l[p1] + l[p2] < x, move\n",
      "    # p1 forward if not move p2 backward. We keep doing this until p1\n",
      "    # and p2 cross each other. When they do we run out of elements in \n",
      "    # the list and return False. Notice we use constant space here \n",
      "    # (ofcourse, assuming we use quick sort).\n",
      "    # Now there are a bunch of functions explained in Sorting&Arrays chapter\n",
      "    # for sorting, also there is the heaps chapter talking about heap sort,\n",
      "    # right now we'll just use python default for ease of use.\n",
      "    l = sorted(l)\n",
      "    p1 = 0\n",
      "    p2 = len(l)-1\n",
      "    while p1 < p2:\n",
      "        if l[p1] + l[p2] == x:\n",
      "            return True\n",
      "        elif l[p1] + l[p2] < x:\n",
      "            p1 += 1\n",
      "        else:\n",
      "            p2 -= 1\n",
      "    return False\n",
      "    \n",
      "l = [ 1, 4, 45, 6, 10, -8 ]\n",
      "x = 16\n",
      "print \"method-1\", check_sum_method1( l, x )\n",
      "print \"method-2\", check_sum_method2( l, x )"
     ],
     "language": "python",
     "metadata": {},
     "outputs": [
      {
       "output_type": "stream",
       "stream": "stdout",
       "text": [
        "method-1 True\n",
        "method-2 True\n"
       ]
      }
     ],
     "prompt_number": 14
    },
    {
     "cell_type": "markdown",
     "metadata": {},
     "source": [
      "> In a given array check (return True, False) if there exists a triplet whose sum is equal to a given value. Example, if the array is [ 12, 3, 4, 1, 6, 9 ] and given sum is 24, then there is a triplet (12, 3, 9) which gives 24.\n",
      "\n",
      "> Source : http://www.geeksforgeeks.org/find-a-triplet-that-sum-to-a-given-value/"
     ]
    },
    {
     "cell_type": "code",
     "collapsed": false,
     "input": [
      "def check_triplet_sum( l, x ):\n",
      "    # We can look at this as an expansion over the prev question\n",
      "    # ( check if two numbers in an array sum to a particular value ).\n",
      "    # using method2. We sort the array first. Set the first number to\n",
      "    # be l[i], where 'i' is the index in the loop. Then use two pointers\n",
      "    # to move across the rest of the array (similar to the check_sum_method2)\n",
      "    # and check for the sum of the numbers. Time complexity is O(n^2).\n",
      "    # Now there are a bunch of functions explained in Sorting&Arrays chapter\n",
      "    # for sorting, also there is the heaps chapter talking about heap sort,\n",
      "    # right now we'll just use python default for ease of use.\n",
      "    l = sorted(l)\n",
      "    for i in range( len(l) ):\n",
      "        currElement = l[i]\n",
      "        # have two pointers at first and last elements\n",
      "        p1 = 0\n",
      "        p2 = len(l)-1\n",
      "        while p1 < p2:\n",
      "            # make sure p1 or p2 are not equal to i\n",
      "            if p1 == i:\n",
      "                p1 += 1\n",
      "                continue\n",
      "            if p2 == i:\n",
      "                p2 -= 1\n",
      "                continue\n",
      "            if currElement + l[p1] + l[p2] == x:\n",
      "                print currElement, l[p1], l[p2]\n",
      "                return True\n",
      "            if currElement + l[p1] + l[p2] < x:\n",
      "                p1 += 1\n",
      "            if currElement + l[p1] + l[p2] > x:\n",
      "                p2 -= 1\n",
      "    return False\n",
      "\n",
      "l = [ 12, 3, 4, 1, 6, 9 ]\n",
      "x = 24\n",
      "print \"triplet found-->\", check_triplet_sum( l, x )"
     ],
     "language": "python",
     "metadata": {},
     "outputs": [
      {
       "output_type": "stream",
       "stream": "stdout",
       "text": [
        "triplet found--> 3 9 12\n",
        "True\n"
       ]
      }
     ],
     "prompt_number": 2
    },
    {
     "cell_type": "markdown",
     "metadata": {},
     "source": [
      "> Write a function to check if a number is a perfect square.\n",
      "\n",
      "> Source : http://www.careercup.com/question?id=14797683"
     ]
    },
    {
     "cell_type": "code",
     "collapsed": false,
     "input": [
      "def check_perfect_square( n ):\n",
      "    # We'll use a simple binary search to do this\n",
      "    # This takes a time \n",
      "    low = 0\n",
      "    high = n\n",
      "    while low <= high:\n",
      "        mid = (low + high)//2\n",
      "        if mid**2 == n:\n",
      "            return mid\n",
      "        elif mid**2 > n:\n",
      "            high = mid-1\n",
      "        else:\n",
      "            low = mid + 1\n",
      "#     print 'closest int sqrt', high\n",
      "    return None\n",
      "\n",
      "# Test case #\n",
      "print check_perfect_square(16)\n",
      "print check_perfect_square(37)"
     ],
     "language": "python",
     "metadata": {},
     "outputs": [
      {
       "output_type": "stream",
       "stream": "stdout",
       "text": [
        "4\n",
        "None\n"
       ]
      }
     ],
     "prompt_number": 1
    },
    {
     "cell_type": "markdown",
     "metadata": {},
     "source": [
      "> Given an array as input output an array by shifting all the even numbers to the left and odd numbers to the right half.\n",
      ">Example:\n",
      ">>Input = [ 12, 34, 45, 9, 8, 90, 3 ]\n",
      "\n",
      ">>Output = [ 12, 34, 8, 90, 45, 9, 3 ]\n",
      "\n",
      "> Source : http://www.geeksforgeeks.org/segregate-even-and-odd-numbers/"
     ]
    },
    {
     "cell_type": "code",
     "collapsed": false,
     "input": [
      "def seprt_even_odd( arr ):\n",
      "    # We'll use a quicksort kinda technique here.\n",
      "    # We'll use two pointers one at the beginning\n",
      "    # and the other at the end. Now instead of using \n",
      "    # a pivot value, we'll check if the number is even\n",
      "    # and odd and exchange pointer values.\n",
      "    leftPntr = 0\n",
      "    rightPntr = len(arr)-1\n",
      "    while leftPntr <= rightPntr:\n",
      "        while ( (arr[leftPntr] % 2 == 0) and (leftPntr <= rightPntr) ) :\n",
      "            leftPntr += 1\n",
      "        while ( (arr[rightPntr] % 2 != 0) and (leftPntr <= rightPntr) ) :\n",
      "            rightPntr -= 1\n",
      "        if leftPntr <= rightPntr:\n",
      "            ( arr[leftPntr], arr[rightPntr] ) = ( arr[rightPntr], arr[leftPntr] )\n",
      "    return arr\n",
      "\n",
      "print seprt_even_odd( [ 12, 34, 45, 9, 8, 90, 3 ] )"
     ],
     "language": "python",
     "metadata": {},
     "outputs": []
    }
   ],
   "metadata": {}
  }
 ]
}