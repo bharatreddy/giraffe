{
 "metadata": {
  "name": "",
  "signature": "sha256:6d5fac0b4614c96f86a741208fe1ba8ae8a9f2b0eddac62b0b4faaf393630366"
 },
 "nbformat": 3,
 "nbformat_minor": 0,
 "worksheets": [
  {
   "cells": [
    {
     "cell_type": "raw",
     "metadata": {},
     "source": [
      "Before we begin, lets note a few things about heaps :\n",
      "(1) In a heap data structure a value in a node is SMALLER than its children.\n",
      "(2) Heap is a balanced binary tree.\n",
      "(3) One simple (not necessarily great) way to implement heaps is simply using lists/arrays. \n",
      "    If we properly draw heaps and note their structure we'll observe that if the position\n",
      "    of a and node ( say n1 ) is i in a list. The left child of n1 will be located at 2i+1, right child\n",
      "    at 2i+2 and the parent of n1 will be at floor(i-1/2).\n",
      "\n",
      "Below we'll define a heap class and some operations associated with it."
     ]
    },
    {
     "cell_type": "code",
     "collapsed": false,
     "input": [],
     "language": "python",
     "metadata": {},
     "outputs": []
    }
   ],
   "metadata": {}
  }
 ]
}