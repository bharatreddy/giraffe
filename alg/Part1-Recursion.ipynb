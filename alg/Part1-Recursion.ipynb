{
 "metadata": {
  "name": "",
  "signature": "sha256:557f443b5601db4ae6b6fdd1dc7557b3b43bb9888a213bd7e72234ad06d5a560"
 },
 "nbformat": 3,
 "nbformat_minor": 0,
 "worksheets": [
  {
   "cells": [
    {
     "cell_type": "markdown",
     "metadata": {},
     "source": [
      "> Warming up\n",
      "\n",
      "> Recursion is a pretty fundamental and important concept in algorithms. It involves the divide and conquer strategy where we break a problem into smaller and smaller peices until it becomes trivial.\n",
      "\n",
      "> There are pros and cons with recursion, the main advantage is that recursion can sometimes provide a simple and elegant solution to a complex problem. The disadvantage is that it could be computationally expensive. The important concept with recursion is to know when to use it and when to avoid it.\n",
      "\n",
      "> There are three fundamental rules to follow while applying recursion.\n",
      ">> A recursive function should call itself in some way.\n",
      "\n",
      ">> A recursive function should always have a base/exit case.\n",
      "\n",
      ">> The recursion should always move towards the base case.\n",
      "\n",
      "> Below are a few recursion questions for practice.\n",
      "\n",
      "> Inspired from : http://interactivepython.org/runestone/static/pythonds/index.html#recursion"
     ]
    },
    {
     "cell_type": "code",
     "collapsed": false,
     "input": [
      "def factorial( n ):\n",
      "    # given a number n, get its factorial\n",
      "    # The base condition -> if n <= 1 return n\n",
      "    if n <= 1:\n",
      "        return n\n",
      "    # Now the recursion part, always move towards base case\n",
      "    return n*factorial(n-1)\n",
      "\n",
      "# Test Case #\n",
      "print factorial(5)\n",
      "print factorial(1)"
     ],
     "language": "python",
     "metadata": {},
     "outputs": [
      {
       "output_type": "stream",
       "stream": "stdout",
       "text": [
        "120\n",
        "1\n"
       ]
      }
     ],
     "prompt_number": 1
    },
    {
     "cell_type": "code",
     "collapsed": false,
     "input": [
      "def fibonacci(n):\n",
      "    # print the nth element of a fibonacci series\n",
      "    # Here we start with 1, not 0.\n",
      "    # The base cases\n",
      "    if n == 0 :\n",
      "        return 0\n",
      "    if n == 1:\n",
      "        return 1\n",
      "    # Recurse towards the base case, fib(n) = fib(n-1) + fib(n-2)\n",
      "    return fibonacci(n-1) + fibonacci(n-2)\n",
      "\n",
      "# Test Case #\n",
      "print fibonacci(6)\n",
      "print fibonacci(10)"
     ],
     "language": "python",
     "metadata": {},
     "outputs": [
      {
       "output_type": "stream",
       "stream": "stdout",
       "text": [
        "8\n",
        "55\n"
       ]
      }
     ],
     "prompt_number": 2
    },
    {
     "cell_type": "code",
     "collapsed": false,
     "input": [
      "def gcd( n1, n2 ):\n",
      "    # find the greatest common divisor of two numbers\n",
      "    # We'll use the Eucledean method to implement the algo\n",
      "    # Explained the Eucledean method below, with an example\n",
      "    # example taken from - http://www.math.rutgers.edu/~greenfie/gs2004/euclid.html\n",
      "    # Divide 210 by 45, and get the result 4 with remainder 30, so 210=4\u00b745+30.\n",
      "    # Divide 45 by 30, and get the result 1 with remainder 15, so 45=1\u00b730+15.\n",
      "    # Divide 30 by 15, and get the result 2 with remainder 0, so 30=2\u00b715+0.\n",
      "    # The greatest common divisor of 210 and 45 is 15.\n",
      "    # The base case\n",
      "    if n1 <= n2:\n",
      "        if n2%n1 == 0:\n",
      "            return n1\n",
      "        ( n2, n1 ) = ( n1, n2%n1 )\n",
      "    else:\n",
      "        if n1%n2 == 0:\n",
      "            return n2\n",
      "        (n1, n2) = (n2, n1%n2)\n",
      "    return gcd( n1, n2 )\n",
      "\n",
      "# Test Case #\n",
      "print gcd( 210, 45 )"
     ],
     "language": "python",
     "metadata": {},
     "outputs": [
      {
       "output_type": "stream",
       "stream": "stdout",
       "text": [
        "15\n"
       ]
      }
     ],
     "prompt_number": 3
    },
    {
     "cell_type": "markdown",
     "metadata": {},
     "source": [
      "> Given two integers n and k, print all possible sequences of length k using elements from the first n natural numbers.\n",
      "\n",
      "> Example : \n",
      "\n",
      ">> Input: n = 3, k = 2\n",
      "\n",
      ">> Output: \n",
      ">> >> 1 2\n",
      "\n",
      ">> >> 1 3\n",
      "\n",
      ">> >> 2 3 \n",
      "\n",
      "> Source : http://www.geeksforgeeks.org/print-increasing-sequences-length-k-first-n-natural-numbers/"
     ]
    },
    {
     "cell_type": "code",
     "collapsed": false,
     "input": [
      "def get_sequence( n, k ):\n",
      "    # This is a tricky recursive question.\n",
      "    # We create an array of length k, for the \n",
      "    # first position we fill in numbers from 1 to n\n",
      "    # for the remaining positions we recursively populate\n",
      "    # the elements by adding elements greater than the elements\n",
      "    # in the prev positions.\n",
      "    # populate \n",
      "    arr = [ 0 for i in range(k) ]\n",
      "    # helper function to recurse over and populate the array\n",
      "    outSequence = seq_helper(  n, k, temp=arr, fin=[] )\n",
      "    return outSequence\n",
      "\n",
      "def seq_helper( n, k, l=0, temp=[0,0,0], fin=[] ):\n",
      "    # return when we get to the number of elements\n",
      "    # in the sequence and append the elements to \n",
      "    # the final array holding the results\n",
      "    if l == k:\n",
      "        fin.append( [ t for t in temp ] )\n",
      "        return \n",
      "    if l == 0 :\n",
      "        i = 1\n",
      "    else:\n",
      "        i = temp[l-1] + 1\n",
      "    l += 1\n",
      "    while i <= n:\n",
      "        temp[l-1] = i\n",
      "        seq_helper( n, k, temp=temp, fin=fin, l=l )\n",
      "        i += 1\n",
      "    l -= 1\n",
      "    return fin\n",
      "\n",
      "\n",
      "# Test cases\n",
      "print 'for combination of 3, 2 --->', get_sequence( 3, 2 )\n",
      "print 'for combination of 5, 3 --->', get_sequence( 5, 3 )"
     ],
     "language": "python",
     "metadata": {},
     "outputs": [
      {
       "output_type": "stream",
       "stream": "stdout",
       "text": [
        "for combination of 3, 2 ---> [[1, 2], [1, 3], [2, 3]]\n",
        "for combination of 5, 3 ---> [[1, 2, 3], [1, 2, 4], [1, 2, 5], [1, 3, 4], [1, 3, 5], [1, 4, 5], [2, 3, 4], [2, 3, 5], [2, 4, 5], [3, 4, 5]]\n"
       ]
      }
     ],
     "prompt_number": 1
    },
    {
     "cell_type": "markdown",
     "metadata": {},
     "source": [
      "> Given an input string and a list of words, divide the input string into a space separated sequence of words (in the list) if possible. For example, if the input string is \"applepie\" and dictionary contains a standard set of English words, then we would return the string \"apple\", \"pie\" as output\n",
      "\n",
      "> The entire article in the link below is interesting.\n",
      "\n",
      "> Source : http://thenoisychannel.com/2011/08/08/retiring-a-great-interview-problem\n",
      "\n",
      "> NOTE : We have a dynamic programming solution to this problem in the Dynamic programming chapter."
     ]
    },
    {
     "cell_type": "code",
     "collapsed": false,
     "input": [
      "def word_break( inpStr, wordList, wordOut = \" \" ):\n",
      "    # As with any recursive pbm, need the base case\n",
      "    if inpStr in wordList:\n",
      "        return [ inpStr ]\n",
      "    for n in range( len(inpStr)+1 ):\n",
      "        preWord = inpStr[:n]\n",
      "        if preWord in wordList:\n",
      "            suff = word_break( inpStr[n:], wordList )\n",
      "            if suff is not None:\n",
      "                return [ preWord ] + suff\n",
      "    return None\n",
      "\n",
      "# Test cases\n",
      "wordList = [ 'xyz', 'abc', 'ijk' ]\n",
      "inpStrWrong = 'ijkxysdzabc'\n",
      "inpStrRight = 'ijkxyzabc'\n",
      "print word_break( inpStrWrong, wordList )\n",
      "print word_break( inpStrRight, wordList )"
     ],
     "language": "python",
     "metadata": {},
     "outputs": [
      {
       "output_type": "stream",
       "stream": "stdout",
       "text": [
        "None\n",
        "['ijk', 'xyz', 'abc']\n"
       ]
      }
     ],
     "prompt_number": 20
    }
   ],
   "metadata": {}
  }
 ]
}