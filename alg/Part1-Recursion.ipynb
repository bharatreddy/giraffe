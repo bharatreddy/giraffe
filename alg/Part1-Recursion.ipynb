{
 "metadata": {
  "name": "",
  "signature": "sha256:75c3bbb02b182a68195dd6287bbebac2850ad9e6c9b145e0bb192fca8bb54873"
 },
 "nbformat": 3,
 "nbformat_minor": 0,
 "worksheets": [
  {
   "cells": [
    {
     "cell_type": "markdown",
     "metadata": {},
     "source": [
      "> Warming up\n",
      "\n",
      "> Recursion is a pretty fundamental and important concept in algorithms. It involves the divide and conquer strategy where we break a problem into smaller and smaller peices until it becomes trivial.\n",
      "\n",
      "> There are pros and cons with recursion, the main advantage is that recursion can sometimes provide a simple and elegant solution to a complex problem. The disadvantage is that it could be computationally expensive. The important concept with recursion is to know when to use it and when to avoid it.\n",
      "\n",
      "> There are three fundamental rules to follow while applying recursion.\n",
      ">> A recursive function should call itself in some way.\n",
      "\n",
      ">> A recursive function should always have a base/exit case.\n",
      "\n",
      ">> The recursion should always move towards the base case.\n",
      "\n",
      "> Below are a few recursion questions for practice.\n",
      "\n",
      "> Inspired from : http://interactivepython.org/runestone/static/pythonds/index.html#recursion"
     ]
    },
    {
     "cell_type": "code",
     "collapsed": false,
     "input": [
      "def factorial( n ):\n",
      "    # given a number n, get its factorial\n",
      "    # The base condition -> if n <= 1 return n\n",
      "    if n <= 1:\n",
      "        return n\n",
      "    # Now the recursion part, always move towards base case\n",
      "    return n*factorial(n-1)\n",
      "\n",
      "# Test Case #\n",
      "print factorial(5)\n",
      "print factorial(1)"
     ],
     "language": "python",
     "metadata": {},
     "outputs": [
      {
       "output_type": "stream",
       "stream": "stdout",
       "text": [
        "120\n",
        "1\n"
       ]
      }
     ],
     "prompt_number": 1
    },
    {
     "cell_type": "code",
     "collapsed": false,
     "input": [
      "def fibonacci(n):\n",
      "    # print the nth element of a fibonacci series\n",
      "    # Here we start with 1, not 0.\n",
      "    # The base cases\n",
      "    if n == 0 :\n",
      "        return 0\n",
      "    if n == 1:\n",
      "        return 1\n",
      "    # Recurse towards the base case, fib(n) = fib(n-1) + fib(n-2)\n",
      "    return fibonacci(n-1) + fibonacci(n-2)\n",
      "\n",
      "# Test Case #\n",
      "print fibonacci(6)\n",
      "print fibonacci(10)"
     ],
     "language": "python",
     "metadata": {},
     "outputs": [
      {
       "output_type": "stream",
       "stream": "stdout",
       "text": [
        "8\n",
        "55\n"
       ]
      }
     ],
     "prompt_number": 2
    },
    {
     "cell_type": "code",
     "collapsed": false,
     "input": [
      "def gcd( n1, n2 ):\n",
      "    # find the greatest common divisor of two numbers\n",
      "    # We'll use the Eucledean method to implement the algo\n",
      "    # Explained the Eucledean method below, with an example\n",
      "    # example taken from - http://www.math.rutgers.edu/~greenfie/gs2004/euclid.html\n",
      "    # Divide 210 by 45, and get the result 4 with remainder 30, so 210=4\u00b745+30.\n",
      "    # Divide 45 by 30, and get the result 1 with remainder 15, so 45=1\u00b730+15.\n",
      "    # Divide 30 by 15, and get the result 2 with remainder 0, so 30=2\u00b715+0.\n",
      "    # The greatest common divisor of 210 and 45 is 15.\n",
      "    # The base case\n",
      "    if n1 <= n2:\n",
      "        if n2%n1 == 0:\n",
      "            return n1\n",
      "        ( n2, n1 ) = ( n1, n2%n1 )\n",
      "    else:\n",
      "        if n1%n2 == 0:\n",
      "            return n2\n",
      "        (n1, n2) = (n2, n1%n2)\n",
      "    return gcd( n1, n2 )\n",
      "\n",
      "# Test Case #\n",
      "print gcd( 210, 45 )"
     ],
     "language": "python",
     "metadata": {},
     "outputs": [
      {
       "output_type": "stream",
       "stream": "stdout",
       "text": [
        "15\n"
       ]
      }
     ],
     "prompt_number": 3
    },
    {
     "cell_type": "markdown",
     "metadata": {},
     "source": [
      "> Given an input string and a list of words, divide the input string into a space separated sequence of words (in the list) if possible. For example, if the input string is \"applepie\" and dictionary contains a standard set of English words, then we would return the string \"apple\", \"pie\" as output\n",
      "\n",
      "> The entire article in the link below is interesting.\n",
      "\n",
      "> Source : http://thenoisychannel.com/2011/08/08/retiring-a-great-interview-problem\n",
      "\n",
      "> NOTE : We have a dynamic programming solution to this problem in the Dynamic programming chapter."
     ]
    },
    {
     "cell_type": "code",
     "collapsed": false,
     "input": [
      "def word_break( inpStr, wordList, wordOut = \" \" ):\n",
      "    # A simple recursive approach where we segment the \n",
      "    # word into a two parts a prefix and suffix by looping\n",
      "    # through the length of the word. Now if the prefix word\n",
      "    # is in the wordList, we'll recurse over the suffix and \n",
      "    # if we dont return None, we're done with the search.\n",
      "    # As with any recursive pbm, need the base case\n",
      "    if inpStr in wordList:\n",
      "        return [ inpStr ]\n",
      "    for n in range( len(inpStr)+1 ):\n",
      "        preWord = inpStr[:n]\n",
      "        if preWord in wordList:\n",
      "            suffWord = word_break( inpStr[n:], wordList )\n",
      "            if suffWord is not None:\n",
      "                return [ preWord ] + suffWord\n",
      "    return None\n",
      "\n",
      "# Test cases\n",
      "wordList = [ 'xyz', 'abc', 'ijk' ]\n",
      "inpStrWrong = 'ijkxysdzabc'\n",
      "inpStrRight = 'ijkxyzabc'\n",
      "print word_break( inpStrWrong, wordList )\n",
      "print word_break( inpStrRight, wordList )"
     ],
     "language": "python",
     "metadata": {},
     "outputs": [
      {
       "output_type": "stream",
       "stream": "stdout",
       "text": [
        "None\n",
        "['ijk', 'xyz', 'abc']\n"
       ]
      }
     ],
     "prompt_number": 1
    },
    {
     "cell_type": "markdown",
     "metadata": {},
     "source": [
      "> Implement pow function.\n",
      ">> O(logn) is the expected time.\n",
      "\n",
      "> Source : https://oj.leetcode.com/problems/powx-n/"
     ]
    },
    {
     "cell_type": "code",
     "collapsed": false,
     "input": [
      "def calc_pow( x, n ):\n",
      "    # Note x is a floating point number\n",
      "    # n is an int. Also n, x could be negative.\n",
      "    # We'll use a helper function to calculate pow.\n",
      "    if n < 0:\n",
      "        return 1./calc_pow_helper( x,-1*n )\n",
      "    return calc_pow_helper( x, n )\n",
      "\n",
      "def calc_pow_helper(x,n):\n",
      "    # This is a recursive function. we'll divide\n",
      "    # the power (n here) by 2 in each recursion.\n",
      "    # Base case as usual for recursive functions.\n",
      "    if n == 0:\n",
      "        return 1\n",
      "    if n == 1:\n",
      "        return x\n",
      "    if n%2 == 0 :\n",
      "        return calc_pow_helper(x*x,n//2)\n",
      "    return calc_pow_helper(x*x,n//2)*x\n",
      "\n",
      "# test cases\n",
      "print calc_pow( 2.1, 4 )\n",
      "print calc_pow( 2, -4 )"
     ],
     "language": "python",
     "metadata": {},
     "outputs": [
      {
       "output_type": "stream",
       "stream": "stdout",
       "text": [
        "19.4481\n",
        "0.0625\n"
       ]
      }
     ],
     "prompt_number": 1
    },
    {
     "cell_type": "markdown",
     "metadata": {},
     "source": [
      "> Given a string print all its permutations.\n",
      "\n",
      "> Example : \n",
      "\n",
      ">> Input : string = 'abc'\n",
      "\n",
      ">> Output: [ 'abc', 'acb', 'bac', 'bca', 'cab', 'cba' ]\n",
      "\n",
      "> Source : http://www.geeksforgeeks.org/write-a-c-program-to-print-all-permutations-of-a-given-string/"
     ]
    },
    {
     "cell_type": "code",
     "collapsed": false,
     "input": [
      "def str_perm( inpStr ):\n",
      "    # This is a tricky recursive problem. A nice\n",
      "    # explanation is given in the recursion chapter\n",
      "    # of Programming interviews exposed book. Read it!\n",
      "    # In this question, if we look at the outputs, we notice\n",
      "    # that we start with fixing the first letter (say 'a'), then\n",
      "    # we need perms of next two ('bc'). Now we'll fix the next letter\n",
      "    # (say 'b') then try for permutations of next (only 'c' is left). We\n",
      "    # get 'abc', now lets take a step back, the next perm would be 'acb'. \n",
      "    # That is interchange the last and penultimate letters. Then we'll move\n",
      "    # on and fix the first letter to 'b' and get permutations like 'bac' \n",
      "    # and so on... In simplest of the terms, we start with a letter, fix it\n",
      "    # go on with perms of next letters. Fix them and keep moving. Here we need\n",
      "    # to keep track of letters used. Note that. i.e., we can use one letter once.\n",
      "    # Again, read details, this is a bit difficult to understand (it was atleast\n",
      "    # to me).\n",
      "    # Replacing letters in a string is not allowed in python, so we'll convert\n",
      "    # the strings into list os letters and work with them.\n",
      "    inpStr = list(inpStr)\n",
      "    perms = str_perm_helper( inpStr )\n",
      "    return perms\n",
      "\n",
      "def str_perm_helper( inp, k=0, out=[] ):\n",
      "    # the base case.\n",
      "    if k == len(inp):\n",
      "        out.append( ''.join(inp) )\n",
      "        return\n",
      "    for i in range(k,len(inp)):\n",
      "        # fix a letter at current position\n",
      "        ( inp[i], inp[k] ) = ( inp[k], inp[i] )\n",
      "        # get perms of next positions\n",
      "        str_perm_helper( inp, k+1, out=out )\n",
      "        # get to the next iteration.\n",
      "        ( inp[i], inp[k] ) = ( inp[k], inp[i] )\n",
      "    return out\n",
      "\n",
      "print \"permutations of string 'abc'->\", str_perm( 'abc' )"
     ],
     "language": "python",
     "metadata": {},
     "outputs": [
      {
       "output_type": "stream",
       "stream": "stdout",
       "text": [
        "permutations of string 'abc'-> ['abc', 'acb', 'bac', 'bca', 'cba', 'cab']\n"
       ]
      }
     ],
     "prompt_number": 4
    },
    {
     "cell_type": "markdown",
     "metadata": {},
     "source": [
      "> Given a string print all its combinations. \n",
      ">> (NOTE : here we need combinations, unlike the prev quesion).\n",
      "\n",
      "> Example : \n",
      "\n",
      ">> Input : string = 'abc'\n",
      "\n",
      ">> Output: [ 'a', 'b', 'c', 'ab', 'ac', 'bc', 'abc' ]\n",
      "\n",
      "> Source : Recursion chapter, programming interviews exposed."
     ]
    },
    {
     "cell_type": "code",
     "collapsed": false,
     "input": [
      "def str_combs( inpStr, out=[], currOut = '' ):\n",
      "    # This algo is somewhat similar to the permutations\n",
      "    # of a string algo. The important trick to realize here \n",
      "    # is that for an input string like 'abc', we have 'a' only in\n",
      "    # the first position, 'b' in positions 1 and 2 and 'c' in\n",
      "    # all three positions (check the example above). So we need\n",
      "    # to build our recursion in that manner. Refer the book for\n",
      "    # a much more elaborate explanation.\n",
      "    for n, i in enumerate(inpStr):\n",
      "        currOut += i\n",
      "        out.append( currOut )\n",
      "        if i != inpStr[-1]:\n",
      "            str_combs( inpStr[n+1:], out=out,currOut=currOut )\n",
      "        currOut = currOut[:-1]\n",
      "    return out\n",
      "\n",
      "print 'combinations of string \"abc\"-->', str_combs( 'abc' )"
     ],
     "language": "python",
     "metadata": {},
     "outputs": [
      {
       "output_type": "stream",
       "stream": "stdout",
       "text": [
        "combinations of string \"abc\"--> ['a', 'ab', 'abc', 'ac', 'b', 'bc', 'c']\n"
       ]
      }
     ],
     "prompt_number": 24
    },
    {
     "cell_type": "markdown",
     "metadata": {},
     "source": [
      "> Phone number to words problem. Given a phone number, print out all possible combinations of words that can be formed by the number using words on the keypad\n",
      "\n",
      "> Example : \n",
      "\n",
      ">> Input : phone number = 23\n",
      "\n",
      ">> Output: [ 'ad', 'ae', 'af', 'bd', 'be', 'bf', 'cd', 'ce', 'cf' ]\n",
      "\n",
      "> Source : Recursion chapter, programming interviews exposed."
     ]
    },
    {
     "cell_type": "code",
     "collapsed": false,
     "input": [
      "def phone_to_words(inpNum, numLen=3, out=[], word=''):\n",
      "    # Note1 : For the sake of simplicity have inpNum as \n",
      "    # a char.\n",
      "    # Note2: numLen is length of  number input. Here\n",
      "    # we are assuming there are 3 digit phone numbers\n",
      "    # in this situation. 3 Digit numbers because the \n",
      "    # outputs are of the order of 3^n so a 7 digit input will\n",
      "    # have 3^7 outs!!\n",
      "    # The logic for this question is somewhat similar\n",
      "    # to the permutations and combinations of a string\n",
      "    # problems done prev. Say our input number is 23, then\n",
      "    # our outputs would be ad, ae, af, bd, be, bf. Similarly\n",
      "    # there will be more outputs for larger numbers. Start with \n",
      "    # looping through chars for the left most number, recurse over \n",
      "    # the remaining numbers and soon.\n",
      "    if len(word) == numLen:\n",
      "        out.append(word)\n",
      "        return\n",
      "    for i in range(3): # 3 chars per digit\n",
      "        currChar = get_char_key(int(inpNum[0]),i)\n",
      "        word += currChar\n",
      "        phone_to_words( inpNum[1:], out=out, word=word )\n",
      "        # The digits 0 and 1 have only 0 and 1 returned\n",
      "        word = word[:len(word)-1]\n",
      "        if (inpNum[0] == '0' or inpNum[0] == '1'):\n",
      "            return \n",
      "    return out\n",
      "          \n",
      "def get_char_key(num,pos):\n",
      "    # A helper function. Simulates the keypad\n",
      "    # of a standard telephone. num is the number\n",
      "    # pos is the pos of the letter to be returned\n",
      "    # For example digit 2 has letters 'abc'. So\n",
      "    # get_char_key(2,1) returns 'a', get_char_key(2,2)\n",
      "    # returns 'b' and so on.\n",
      "    if (num == 0 or num == 1):\n",
      "        return str(num)\n",
      "    teleDict = {}\n",
      "    # loop and build a dict of number and keys.\n",
      "    # start with 'a'\n",
      "    currOrd = ord('a')\n",
      "    for i in range(2,10):\n",
      "        teleDict[i] = []\n",
      "        for c in range(3):\n",
      "            teleDict[i].append( chr(currOrd) )\n",
      "            currOrd += 1 \n",
      "    return teleDict[num][pos-1]\n",
      "\n",
      "print phone_to_words('234')"
     ],
     "language": "python",
     "metadata": {},
     "outputs": [
      {
       "output_type": "stream",
       "stream": "stdout",
       "text": [
        "['cfi', 'cfg', 'cfh', 'cdi', 'cdg', 'cdh', 'cei', 'ceg', 'ceh', 'afi', 'afg', 'afh', 'adi', 'adg', 'adh', 'aei', 'aeg', 'aeh', 'bfi', 'bfg', 'bfh', 'bdi', 'bdg', 'bdh', 'bei', 'beg', 'beh']\n"
       ]
      }
     ],
     "prompt_number": 62
    },
    {
     "cell_type": "markdown",
     "metadata": {},
     "source": [
      "> Given two integers n and k, print all possible sequences of length k using elements from the first n natural numbers.\n",
      "\n",
      "> Example : \n",
      "\n",
      ">> Input: n = 3, k = 2\n",
      "\n",
      ">> Output: \n",
      ">> >> 1 2\n",
      "\n",
      ">> >> 1 3\n",
      "\n",
      ">> >> 2 3 \n",
      "\n",
      "> Source : http://www.geeksforgeeks.org/print-increasing-sequences-length-k-first-n-natural-numbers/"
     ]
    },
    {
     "cell_type": "code",
     "collapsed": false,
     "input": [
      "def get_sequence( n, k ):\n",
      "    # This is a tricky recursive question.\n",
      "    # We create an array of length k, for the \n",
      "    # first position we fill in numbers from 1 to n\n",
      "    # for the remaining positions we recursively populate\n",
      "    # the elements by adding elements greater than the elements\n",
      "    # in the prev positions.\n",
      "    # populate \n",
      "    arr = [ 0 for i in range(k) ]\n",
      "    # helper function to recurse over and populate the array\n",
      "    outSequence = seq_helper(  n, k, temp=arr, fin=[] )\n",
      "    return outSequence\n",
      "\n",
      "def seq_helper( n, k, l=0, temp=[0,0,0], fin=[] ):\n",
      "    # return when we get to the number of elements\n",
      "    # in the sequence and append the elements to \n",
      "    # the final array holding the results\n",
      "    if l == k:\n",
      "        fin.append( [ t for t in temp ] )\n",
      "        return \n",
      "    if l == 0 :\n",
      "        i = 1\n",
      "    else:\n",
      "        i = temp[l-1] + 1\n",
      "    l += 1\n",
      "    while i <= n:\n",
      "        temp[l-1] = i\n",
      "        seq_helper( n, k, temp=temp, fin=fin, l=l )\n",
      "        i += 1\n",
      "    l -= 1\n",
      "    return fin\n",
      "\n",
      "\n",
      "# Test cases\n",
      "print 'for combination of 3, 2 --->', get_sequence( 3, 2 )\n",
      "print 'for combination of 5, 3 --->', get_sequence( 5, 3 )"
     ],
     "language": "python",
     "metadata": {},
     "outputs": [
      {
       "output_type": "stream",
       "stream": "stdout",
       "text": [
        "for combination of 3, 2 ---> [[1, 2], [1, 3], [2, 3]]\n",
        "for combination of 5, 3 ---> [[1, 2, 3], [1, 2, 4], [1, 2, 5], [1, 3, 4], [1, 3, 5], [1, 4, 5], [2, 3, 4], [2, 3, 5], [2, 4, 5], [3, 4, 5]]\n"
       ]
      }
     ],
     "prompt_number": 1
    },
    {
     "cell_type": "markdown",
     "metadata": {},
     "source": [
      "> Knight's traversal on a keypad problem.\n",
      ">> Given a telephone keypad find the number of ways the knight can traverse the keypad in n steps, starting on the digit 1. \n",
      "\n",
      "> The knight for example if starting from '1' can move to '6' or '8'.\n",
      "\n",
      "> Source : http://stackoverflow.com/questions/2893470/generate-10-digit-number-using-a-phone-keypad"
     ]
    },
    {
     "cell_type": "code",
     "collapsed": false,
     "input": [
      "def knights_route(nSteps,startDigit='1'):\n",
      "    # get the possible routes from different numbers\n",
      "    # Note that there is no path from digit '5' and no\n",
      "    # digit traverses to 5.\n",
      "    route = { '1' : ['6', '8'], '2' : ['7', '9'], \\\n",
      "             '3' : ['4', '8'], '4' : ['0', '3', '9'], \\\n",
      "             '5' : [], '6' : ['7', '1', '0'], \\\n",
      "             '7' : ['6', '2'], '8' : ['3', '1'], \\\n",
      "             '9' : ['4', '2'], '0' : ['4', '6'], }\n",
      "    # We'll use a helper function for the recursion part\n",
      "    return knight_helper(nSteps, route, currDigit=startDigit,\\\n",
      "                         currSteps=0)\n",
      "\n",
      "def knight_helper(nSteps, route, currDigit='1',\\\n",
      "                         currSteps=0):\n",
      "    # The recursion is somewhat obvious here after so many problems :)\n",
      "    # Start with a digit, count the number of ways, recurse through\n",
      "    # the digits that the knight traverses through in the next step.\n",
      "    countRoutes = 0\n",
      "    currSteps += 1\n",
      "    if currSteps == nSteps:\n",
      "        return 1\n",
      "    for d in route[currDigit]:\n",
      "        countRoutes += knight_helper( nSteps, route, currDigit=d,\\\n",
      "                      currSteps=currSteps)\n",
      "    return countRoutes\n",
      "\n",
      "print \"Number of possible routes in 10 steps->\", knights_route(10)"
     ],
     "language": "python",
     "metadata": {},
     "outputs": [
      {
       "output_type": "stream",
       "stream": "stdout",
       "text": [
        "Number of possible routes in 10 steps-> 1424\n"
       ]
      }
     ],
     "prompt_number": 1
    },
    {
     "cell_type": "markdown",
     "metadata": {},
     "source": [
      "> Power set algorithm, Recursive version. The iterative version is in the bitwise ops chapter."
     ]
    },
    {
     "cell_type": "code",
     "collapsed": false,
     "input": [
      "def power_set_recursive(li):\n",
      "    # the recursive algo for powerset can be\n",
      "    # power_set(abc) = [ a, b, c, ab, ac, bc, abc ]\n",
      "    # now take out all elements having 'a'\n",
      "    # power_set(abc)-{a} = [ b, c, bc ]\n",
      "    # {a} = [ a, ab, ac, abc ] = [a] + [ b, c, bc ]\n",
      "    # or {a} = [a] + power_set(abc)-{a}\n",
      "    # so power_set(abc) = a + [loop thru elements in power set of bc] + powerset of bc\n",
      "    if len(li) ==  0:\n",
      "        return [[]]\n",
      "    return combn_lists( li[0], power_set_recursive( li[1:] ) ) + power_set_recursive(li[1:])\n",
      "\n",
      "def combn_lists( x, y ):\n",
      "    outList = []\n",
      "    if len(y) == 0:\n",
      "        return [ [x] ]\n",
      "    for j in y:\n",
      "        outList += [ [x] + j ]\n",
      "    return outList\n",
      "\n",
      "print power_set_recursive( [ 1, 2, 3 ] )"
     ],
     "language": "python",
     "metadata": {},
     "outputs": [
      {
       "output_type": "stream",
       "stream": "stdout",
       "text": [
        "[[1, 2, 3], [1, 2], [1, 3], [1], [2, 3], [2], [3], []]\n"
       ]
      }
     ],
     "prompt_number": 2
    }
   ],
   "metadata": {}
  }
 ]
}