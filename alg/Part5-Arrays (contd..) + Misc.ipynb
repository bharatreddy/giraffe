{
 "metadata": {
  "name": "",
  "signature": "sha256:22c1d409b25cdb118fe7d9a0618f09a28ec70a640b3cd788e37de9f77432eafb"
 },
 "nbformat": 3,
 "nbformat_minor": 0,
 "worksheets": [
  {
   "cells": [
    {
     "cell_type": "markdown",
     "metadata": {},
     "source": [
      "> Construct a Product Array (say prod) from a given array (say arr) such that prod[i] is equal to the product of all the elements of arr except arr[i]. NOTE : no using division operator.\n",
      "\n",
      "> Source : http://www.geeksforgeeks.org/a-product-array-puzzle/"
     ]
    },
    {
     "cell_type": "code",
     "collapsed": false,
     "input": [
      "def get_product( l ):\n",
      "    # This can be done in O(n) time using additional O(n) space.\n",
      "    # We'll have to maintain two arrays, a lower array ( say lower )\n",
      "    # containing product of all elements of arr to the left of index 'i'\n",
      "    # and a upper array (upper) containing product of all elements to the \n",
      "    # right of 'i'. Now the dot product of upper and lower will be the required\n",
      "    # product. For example say we have array of 3 elements a,prod[2] = a[0]*a[1]*a[2]\n",
      "    # Where a[0]*a[1] is the lower array and a[2] is the upper array.\n",
      "    # First get the lower array\n",
      "    element = 1 \n",
      "    lower = [1] * len(l)\n",
      "    for i in range( len(l) ):\n",
      "        lower[i] = element\n",
      "        element *= l[i]\n",
      "    # Loop again and get the upper array\n",
      "    element = 1\n",
      "    upper = [1] * len(l)\n",
      "    for i in range( len(l),0,-1 ):\n",
      "        upper[i-1] = element\n",
      "        element *= l[i-1]\n",
      "    # Now make the final loop and get the product\n",
      "    prod = []\n",
      "    for (i,j) in zip( lower,upper ):\n",
      "        prod.append( i*j )\n",
      "    return prod\n",
      "\n",
      "l = [ 10, 20, 30 ]\n",
      "print get_product(l)"
     ],
     "language": "python",
     "metadata": {},
     "outputs": [
      {
       "output_type": "stream",
       "stream": "stdout",
       "text": [
        "[600, 300, 200]\n"
       ]
      }
     ],
     "prompt_number": 11
    },
    {
     "cell_type": "markdown",
     "metadata": {},
     "source": [
      "> Given an array A and a number x, check for a pair of numbers in A that sum to x\n",
      "\n",
      "> Source : http://www.geeksforgeeks.org/write-a-c-program-that-given-a-set-a-of-n-numbers-and-another-number-x-determines-whether-or-not-there-exist-two-elements-in-s-whose-sum-is-exactly-x/"
     ]
    },
    {
     "cell_type": "code",
     "collapsed": false,
     "input": [
      "# we'll use two methods for doing this,\n",
      "# one takes O(n) time and O(n) space and the\n",
      "# other takes O(nlogn) space.\n",
      "def check_sum_method1( l, x ):\n",
      "    # this is a simple and stright forward method\n",
      "    # which takes O(n) time and space. We store each \n",
      "    # element in a dict (hashmap) as we loop through \n",
      "    # the array and check if x-element is in the dict\n",
      "    elementsDict = {}\n",
      "    for i in l:\n",
      "        if x-i in elementsDict:\n",
      "            return True\n",
      "        elementsDict[i] = True\n",
      "    return False\n",
      "\n",
      "def check_sum_method2( l, x ):\n",
      "    # The second method to approach this problem is by\n",
      "    # sorting the list O(nlogn) and then using a quicksort\n",
      "    # type of approach where in we have two pointers, one at\n",
      "    # the beginning of the list and the other at the end. Lets\n",
      "    # call both these p1 and p2 respectively, if l[p1] + l[p2] = x\n",
      "    # then return True, we are done. Else if l[p1] + l[p2] < x, move\n",
      "    # p1 forward if not move p2 backward. We keep doing this until p1\n",
      "    # and p2 cross each other. When they do we run out of elements in \n",
      "    # the list and return False. Notice we use constant space here \n",
      "    # (ofcourse, assuming we use quick sort).\n",
      "    # Now there are a bunch of functions explained in Sorting&Arrays chapter\n",
      "    # for sorting, also there is the heaps chapter talking about heap sort,\n",
      "    # right now we'll just use python default for ease of use.\n",
      "    l = sorted(l)\n",
      "    p1 = 0\n",
      "    p2 = len(l)-1\n",
      "    while p1 < p2:\n",
      "        if l[p1] + l[p2] == x:\n",
      "            return True\n",
      "        elif l[p1] + l[p2] < x:\n",
      "            p1 += 1\n",
      "        else:\n",
      "            p2 -= 1\n",
      "    return False\n",
      "    \n",
      "l = [ 1, 4, 45, 6, 10, -8 ]\n",
      "x = 16\n",
      "print \"method-1\", check_sum_method1( l, x )\n",
      "print \"method-2\", check_sum_method2( l, x )"
     ],
     "language": "python",
     "metadata": {},
     "outputs": [
      {
       "output_type": "stream",
       "stream": "stdout",
       "text": [
        "method-1 True\n",
        "method-2 True\n"
       ]
      }
     ],
     "prompt_number": 14
    },
    {
     "cell_type": "markdown",
     "metadata": {},
     "source": [
      "> In a given array check (return True, False) if there exists a triplet whose sum is equal to a given value. Example, if the array is [ 12, 3, 4, 1, 6, 9 ] and given sum is 24, then there is a triplet (12, 3, 9) which gives 24.\n",
      "\n",
      "> Source : http://www.geeksforgeeks.org/find-a-triplet-that-sum-to-a-given-value/"
     ]
    },
    {
     "cell_type": "code",
     "collapsed": false,
     "input": [
      "def check_triplet_sum( l, x ):\n",
      "    # We can look at this as an expansion over the prev question\n",
      "    # ( check if two numbers in an array sum to a particular value ).\n",
      "    # using method2. We sort the array first. Set the first number to\n",
      "    # be l[i], where 'i' is the index in the loop. Then use two pointers\n",
      "    # to move across the rest of the array (similar to the check_sum_method2)\n",
      "    # and check for the sum of the numbers. Time complexity is O(n^2).\n",
      "    # Now there are a bunch of functions explained in Sorting&Arrays chapter\n",
      "    # for sorting, also there is the heaps chapter talking about heap sort,\n",
      "    # right now we'll just use python default for ease of use.\n",
      "    l = sorted(l)\n",
      "    for i in range( len(l) ):\n",
      "        currElement = l[i]\n",
      "        # have two pointers at first and last elements\n",
      "        p1 = 0\n",
      "        p2 = len(l)-1\n",
      "        while p1 < p2:\n",
      "            # make sure p1 or p2 are not equal to i\n",
      "            if p1 == i:\n",
      "                p1 += 1\n",
      "                continue\n",
      "            if p2 == i:\n",
      "                p2 -= 1\n",
      "                continue\n",
      "            if currElement + l[p1] + l[p2] == x:\n",
      "                print currElement, l[p1], l[p2]\n",
      "                return True\n",
      "            if currElement + l[p1] + l[p2] < x:\n",
      "                p1 += 1\n",
      "            if currElement + l[p1] + l[p2] > x:\n",
      "                p2 -= 1\n",
      "    return False\n",
      "\n",
      "l = [ 12, 3, 4, 1, 6, 9 ]\n",
      "x = 24\n",
      "print \"triplet found-->\", check_triplet_sum( l, x )"
     ],
     "language": "python",
     "metadata": {},
     "outputs": [
      {
       "output_type": "stream",
       "stream": "stdout",
       "text": [
        "triplet found--> 3 9 12\n",
        "True\n"
       ]
      }
     ],
     "prompt_number": 2
    },
    {
     "cell_type": "markdown",
     "metadata": {},
     "source": [
      "> Write a function to check if a number is a perfect square.\n",
      "\n",
      "> Source : http://www.careercup.com/question?id=14797683"
     ]
    },
    {
     "cell_type": "code",
     "collapsed": false,
     "input": [
      "def check_perfect_square( n ):\n",
      "    # We'll use a simple binary search to do this\n",
      "    # This takes a time \n",
      "    low = 0\n",
      "    high = n\n",
      "    while low <= high:\n",
      "        mid = (low + high)//2\n",
      "        if mid**2 == n:\n",
      "            return mid\n",
      "        elif mid**2 > n:\n",
      "            high = mid-1\n",
      "        else:\n",
      "            low = mid + 1\n",
      "#     print 'closest int sqrt', high\n",
      "    return None\n",
      "\n",
      "# Test case #\n",
      "print check_perfect_square(16)\n",
      "print check_perfect_square(37)"
     ],
     "language": "python",
     "metadata": {},
     "outputs": [
      {
       "output_type": "stream",
       "stream": "stdout",
       "text": [
        "4\n",
        "None\n"
       ]
      }
     ],
     "prompt_number": 1
    },
    {
     "cell_type": "markdown",
     "metadata": {},
     "source": [
      "> Given an array as input output an array by shifting all the even numbers to the left and odd numbers to the right half.\n",
      ">Example:\n",
      ">>Input = [ 12, 34, 45, 9, 8, 90, 3 ]\n",
      "\n",
      ">>Output = [ 12, 34, 8, 90, 45, 9, 3 ]\n",
      "\n",
      "> Source : http://www.geeksforgeeks.org/segregate-even-and-odd-numbers/"
     ]
    },
    {
     "cell_type": "code",
     "collapsed": false,
     "input": [
      "def seprt_even_odd( arr ):\n",
      "    # We'll use a quicksort kinda technique here.\n",
      "    # We'll use two pointers one at the beginning\n",
      "    # and the other at the end. Now instead of using \n",
      "    # a pivot value, we'll check if the number is even\n",
      "    # and odd and exchange pointer values.\n",
      "    leftPntr = 0\n",
      "    rightPntr = len(arr)-1\n",
      "    while leftPntr <= rightPntr:\n",
      "        while ( (arr[leftPntr] % 2 == 0) and (leftPntr <= rightPntr) ) :\n",
      "            leftPntr += 1\n",
      "        while ( (arr[rightPntr] % 2 != 0) and (leftPntr <= rightPntr) ) :\n",
      "            rightPntr -= 1\n",
      "        if leftPntr <= rightPntr:\n",
      "            ( arr[leftPntr], arr[rightPntr] ) = ( arr[rightPntr], arr[leftPntr] )\n",
      "    return arr\n",
      "\n",
      "print seprt_even_odd( [ 3, 5, 4, 6, 7, 9, 2 ] )"
     ],
     "language": "python",
     "metadata": {},
     "outputs": [
      {
       "output_type": "stream",
       "stream": "stdout",
       "text": [
        "[2, 6, 4, 5, 7, 9, 3]\n"
       ]
      }
     ],
     "prompt_number": 6
    },
    {
     "cell_type": "markdown",
     "metadata": {},
     "source": [
      "> Given two numbers, say a and b. Find their sum only by using ++ or -- operators.\n",
      "> Note : There could be negative numbers as inputs\n",
      "\n",
      "> Source : http://www.careercup.com/question?id=5671819755388928"
     ]
    },
    {
     "cell_type": "code",
     "collapsed": false,
     "input": [
      "def get_sum( a, b ):\n",
      "    # This is a pretty simple one.\n",
      "    # Initialize a sum var, now increment the var and\n",
      "    # decrement a, b by 1 until both a and b get to zero.\n",
      "    # If we have  negative numbers, we'll use an if \n",
      "    # condition and  decrement the res and increment a and/or b.\n",
      "    res = 0\n",
      "    while ( (a != 0) and (b != 0) ):\n",
      "        if a < 0:\n",
      "            res -=1\n",
      "            a += 1\n",
      "        if a > 0:\n",
      "            res += 1\n",
      "            a -=1\n",
      "        if b < 0:\n",
      "            res -=1\n",
      "            b += 1\n",
      "        if b > 0:\n",
      "            res += 1\n",
      "            b -=1\n",
      "    while (a != 0):\n",
      "        if a < 0:\n",
      "            res -=1\n",
      "            a += 1\n",
      "        if a > 0:\n",
      "            res += 1\n",
      "            a -=1\n",
      "    while (b != 0):\n",
      "        if b < 0:\n",
      "            res -=1\n",
      "            b += 1\n",
      "        if b > 0:\n",
      "            res += 1\n",
      "            b -=1\n",
      "    return res\n",
      "\n",
      "print get_sum( 2, 3 )\n",
      "print get_sum( 2, -3 )\n",
      "print get_sum( -2, 0 )\n",
      "print get_sum( -2, -3 )"
     ],
     "language": "python",
     "metadata": {},
     "outputs": [
      {
       "output_type": "stream",
       "stream": "stdout",
       "text": [
        "5\n",
        "-1\n",
        "-2\n",
        "-5\n"
       ]
      }
     ],
     "prompt_number": 6
    },
    {
     "cell_type": "markdown",
     "metadata": {},
     "source": [
      "> Calculate the median of two sorted arrays of different lengths. \n",
      "\n",
      "> Source : http://www.geeksforgeeks.org/median-of-two-sorted-arrays-of-different-sizes/"
     ]
    },
    {
     "cell_type": "code",
     "collapsed": false,
     "input": [
      "def calc_median(arr1, arr2):\n",
      "    # This problem can be solved in O(n) time using simple\n",
      "    # merge sort technique. However there is a method to solve \n",
      "    # it in O(logn) time. We start with finding the respective \n",
      "    # medians of the two arrays and compare the medians to discard\n",
      "    # elements of each array. Say median of list1 is m1 and median\n",
      "    # of list2 is m2. Now say we have lists of equal size then if\n",
      "    # m1 = m2 then we're done. return m1. if m1 > m2: then median is \n",
      "    # present either between the first element and m1 of array1 or m2\n",
      "    # and the last element of array2 (remember they are sorted), vice-\n",
      "    # versa for array2. Now repeat the process until we get arrays of \n",
      "    # lengths 2. Then median = (max(array1[0], array2[0]) + min(array1[1], array2[1]))/2\n",
      "    # However, things get complicated when number of elements in arrays are different. \n",
      "    # We'll now have to deal with a bunch of base cases listed below in the code and\n",
      "    # a really important change would be to remove the same number of \n",
      "    # elements from both the arrays.\n",
      "    # Get the length of the arrays (smaller and bigger)\n",
      "    if len(arr1) >= len(arr2):\n",
      "        small = len(arr2)\n",
      "        big = len(arr1)\n",
      "        # for ease of use we'll change arrays as well\n",
      "        ( arr1, arr2 ) = ( arr2, arr1 )\n",
      "    else:\n",
      "        small = len(arr1)\n",
      "        big = len(arr2)\n",
      "    if small == 1:\n",
      "        # Case-1 : smaller and larger array are both of length 1\n",
      "        if big == 1:\n",
      "            return (arr1[0] + arr2[0] )/2.\n",
      "        # Case-2 : If larger array has odd num of elements, we'll now have\n",
      "        # to look into the middle 3 elements of the larger array and the \n",
      "        # (only) element of small array.\n",
      "        if (big%2) != 0:\n",
      "            # Say for example arr1 is small and arr2 is big and \n",
      "            # arr2 = [ 5, 10, 12, 15, 20 ], now the possible cases are :\n",
      "            # 1) arr1[0] is smaller than 10, the median is average of 10 and 12.\n",
      "            # 2) arr1[0] lies between 10 and 12, the median is average of arr1[0] and 12.\n",
      "            # 3) arr1[0] lies between 12 and 15, the median is average of 12 and 15.\n",
      "            # 4) arr1[0] is greater than 15, the median is average of 12 and 15.\n",
      "            # In all these cases 12 is constant, so, we need to find the median of \n",
      "            # arr2[ M/2-1], arr2[ M/2+1], arr1[0] and take its average with B[M/2].\n",
      "            medTemp = arr1[0] + arr2[big/2-1] + arr2[big/2+1] -\\\n",
      "                max( arr1[0], arr2[big/2-1], arr2[big/2+1] )-\\\n",
      "                         min( arr1[0], arr2[big/2-1], arr2[big/2+1] )\n",
      "            return (arr2[big/2] + medTemp)/2.\n",
      "        # Case-3 : If the larger array has even number of elements, \n",
      "        # then median could be \n",
      "        # The middle two elements of larger array\n",
      "        # The only element of smaller array\n",
      "        return arr1[0] + arr2[big/2-1] + arr2[big/2] -\\\n",
      "                max( arr1[0], arr2[big/2-1], arr2[big/2] )-\\\n",
      "                        min( arr1[0], arr2[big/2-1], arr2[big/2] )\n",
      "    elif small == 2:\n",
      "        # Case-4 : if arr2 also has 2 elements, then just get med for 4 elements\n",
      "        return ( sum(arr1) + sum( arr2 ) - max( arr1 + arr2 ) - min( arr1 + arr2 ) ) /2.\n",
      "        # Case-5 : If the larger array has odd number of elements, \n",
      "        # then median could be\n",
      "        # Middle element of larger array\n",
      "        # Max of first element of smaller array and element just\n",
      "        #    before the middle in bigger array\n",
      "        # Min of second element of smaller array and element just\n",
      "        #    after the middle in bigger array\n",
      "        if (big%2) != 0:\n",
      "            el1 = max( arr1[0], arr2[big/2 - 1] )\n",
      "            el2 = min( arr1[1], arr2[big/2 + 1] )\n",
      "            return arr2[big/2] + el1 + el2 -\\\n",
      "                max(arr2[big/2], el1, el2) -\\\n",
      "                min(arr2[big/2], el1, el2)\n",
      "        # Case-6 : If the larger array has even number of elements, then\n",
      "        # median could be\n",
      "        # 1) & 2) The middle two elements of larger array\n",
      "        # 3) Max of first element of smaller array and element\n",
      "        #    just before the first middle element in bigger array\n",
      "        # 4. Min of second element of smaller array and element\n",
      "        #    just after the second middle in bigger array\n",
      "        tempMax = max( arr1[0], arr2[big/2 - 2] )\n",
      "        tempMin = min( arr1[1], arr2[big/2 + 1] )\n",
      "        totMax = max( arr2[big/2] , arr2[big/2 - 1] , tempMax , tempMin )\n",
      "        totMin = min( arr2[big/2] , arr2[big/2 - 1] , tempMax , tempMin )\n",
      "        return ( arr2[big/2] + arr2[big/2 - 1] + tempMax + tempMin - totMax- totMin )/2.\n",
      "    iArr1 = ( small - 1 ) / 2\n",
      "    iArr2 = ( big - 1 ) / 2\n",
      "    # if arr1[iArr1] <= B[idxB], then median must exist in\n",
      "    #   arr1[iArr1....] and arr2[....idxB]\n",
      "    if( arr1[iArr1] <= arr2[iArr2] ):\n",
      "        return calc_median( arr1[iArr1:], arr2[:big - iArr1] )\n",
      "    # if arr1[iArr1] > arr2[iArr2], then median must exist in\n",
      "    #   arr1[...iArr1] and arr2[iArr2....] */\n",
      "    return calc_median( arr1[:small-iArr1], arr2[iArr1:] )\n",
      "\n",
      "# test case\n",
      "arr1 = [1, 12, 15, 26, 38]\n",
      "arr2 = [2, 13, 17, 30, 45]\n",
      "print calc_median(arr1, arr2)"
     ],
     "language": "python",
     "metadata": {},
     "outputs": [
      {
       "output_type": "stream",
       "stream": "stdout",
       "text": [
        "16.0\n"
       ]
      }
     ],
     "prompt_number": 16
    },
    {
     "cell_type": "markdown",
     "metadata": {},
     "source": [
      "> From a given set of strings, return all groups of strings that are anagrams.\n",
      ">> Assume all inputs will be in lower case.\n",
      "\n",
      "> Source : https://oj.leetcode.com/problems/anagrams/"
     ]
    },
    {
     "cell_type": "code",
     "collapsed": false,
     "input": [
      "def get_anagrams(strArr):\n",
      "    # We can do this by sorting the strings,\n",
      "    # When sorted anagrams should be the same.\n",
      "    # Then we can group all the anagrams together\n",
      "    # in a dict and return the results\n",
      "    anagramDict = {}\n",
      "    for sa in strArr:\n",
      "        sortedStrs = ''.join(sorted(sa))\n",
      "        if sortedStrs not in anagramDict:\n",
      "            anagramDict[sortedStrs] = [sa]\n",
      "        else:\n",
      "            anagramDict[sortedStrs] += [sa]\n",
      "    # we are done collecting/checking the anagrams\n",
      "    # return the anagrams by looping through the \n",
      "    # anagramDict\n",
      "    anagramList = []\n",
      "    for an in anagramDict.keys():\n",
      "        if len(anagramDict[an]) > 1:\n",
      "            anagramList += anagramDict[an]\n",
      "    return anagramList\n",
      "    \n",
      "# test case\n",
      "strArr = [ \"abc\", \"cba\", \"abca\", \"wxyz\", \"zwxy\", \"zuyx\" ]\n",
      "print get_anagrams(strArr)"
     ],
     "language": "python",
     "metadata": {},
     "outputs": [
      {
       "output_type": "stream",
       "stream": "stdout",
       "text": [
        "['abc', 'cba', 'wxyz', 'zwxy']\n"
       ]
      }
     ],
     "prompt_number": 1
    },
    {
     "cell_type": "markdown",
     "metadata": {},
     "source": [
      "> Count and Say problem. Given an integer n, generate the nth value of the count and say sequence, which is described below.\n",
      ">> The count-and-say sequence is the sequence of integers beginning as follows:\n",
      "\n",
      ">> 1, 11, 21, 1211, 111221, ...\n",
      "\n",
      ">>> 1 is read off as \"one 1\" or 11.\n",
      "\n",
      ">>> 11 is read off as \"two 1s\" or 21.\n",
      "\n",
      ">>> 21 is read off as \"one 2, then one 1\" or 1211.\n",
      "\n",
      "> Source : https://oj.leetcode.com/problems/count-and-say/"
     ]
    },
    {
     "cell_type": "code",
     "collapsed": false,
     "input": [
      "def count_and_say(n):\n",
      "    # The main heavy lifting is done in the count_say_helper\n",
      "    # function, where we calculate the next val in sequence\n",
      "    # given the current val. Here we'll loop through and get\n",
      "    # the nth val in sequence\n",
      "    if n <= 1:\n",
      "        return '1'\n",
      "    currSeq = '1'\n",
      "    for j in range(1,n):\n",
      "        currSeq = count_say_helper(currSeq)\n",
      "    return currSeq\n",
      "\n",
      "def count_say_helper(inpVal):\n",
      "    # We need to keep a count of repetitive numbers here\n",
      "    # keep a dict with number of times a number appears \n",
      "    # continuosly in order and later unpack it to generate\n",
      "    # the next number in the series.\n",
      "    # In the dict below, the main keys will be the index\n",
      "    # of the digit or the order in which the number appeared\n",
      "    # in the inpVal, then we'll have subdicts to each index\n",
      "    # whose keys are the digits themselves and whose values\n",
      "    # are the number of times the digit repeats.\n",
      "    countSayDict = {}\n",
      "    prev = None\n",
      "    nCount = 0\n",
      "    for k in inpVal:\n",
      "        if prev is None:\n",
      "            countSayDict[nCount] = {}\n",
      "            countSayDict[nCount][k] = 1\n",
      "            prev = k\n",
      "        else:\n",
      "            if k == countSayDict[nCount].keys()[0]:\n",
      "                countSayDict[nCount][k] += 1\n",
      "                prev = k\n",
      "            else:\n",
      "                nCount += 1\n",
      "                prev = k\n",
      "                countSayDict[nCount] = {}\n",
      "                countSayDict[nCount][k] = 1\n",
      "    # unpack the dict to get the next sequence\n",
      "    nextSeqVal = ''\n",
      "    for j in countSayDict.keys():\n",
      "        # get the actual digit, key\n",
      "        sayVal = countSayDict[j].keys()[0]\n",
      "        # get the number of times the digit\n",
      "        # appeared consequitively, the value\n",
      "        countVal = str(countSayDict[j][sayVal])\n",
      "        nextSeqVal += countVal + sayVal\n",
      "    return nextSeqVal\n",
      "\n",
      "# Test Cases\n",
      "for i in range(1,6):\n",
      "    print \"value at pos\",i,\"--> \", count_and_say(i)"
     ],
     "language": "python",
     "metadata": {},
     "outputs": [
      {
       "output_type": "stream",
       "stream": "stdout",
       "text": [
        "value at pos 1 -->  1\n",
        "value at pos 2 -->  11\n",
        "value at pos 3 -->  21\n",
        "value at pos 4 -->  1211\n",
        "value at pos 5 -->  111221\n"
       ]
      }
     ],
     "prompt_number": 1
    },
    {
     "cell_type": "markdown",
     "metadata": {},
     "source": [
      "> Search for an element in a sorted and rotated array (Example : [ 3, 4, 5, 1, 2 ] ).\n",
      "\n",
      "> Source : http://www.geeksforgeeks.org/search-an-element-in-a-sorted-and-pivoted-array/"
     ]
    },
    {
     "cell_type": "code",
     "collapsed": false,
     "input": [
      "def rtd_srtd(arr, element, lowPntr, highPntr,):\n",
      "    # This problem can be solved in O(logn) time.\n",
      "    # An interesting property to note about the sorted\n",
      "    # and rotated array is that when we divide it into two\n",
      "    # halves, one of the half's is sorted. For example, in \n",
      "    # [ 3, 4, 5, 6, 7, 1, 2 ], 6 is the mid point and the\n",
      "    # left half is sorted here. Now we can use a slightly\n",
      "    # modified form of binary search to solve for this using\n",
      "    # recursion, by eliminating the half in which the element\n",
      "    # is not present.\n",
      "    # get the mid-point\n",
      "    midPntr = ( lowPntr + highPntr )/2\n",
      "    # if the search ends\n",
      "    if lowPntr > highPntr:\n",
      "        return None\n",
      "    # if midPntr is the element we are searching\n",
      "    if arr[midPntr] == element:\n",
      "        return arr[midPntr], midPntr\n",
      "    # if the left half of the array is sorted\n",
      "    if arr[lowPntr]  <= arr[midPntr]:\n",
      "        # check if the element is in the left half\n",
      "        if (arr[lowPntr] <= element) and (arr[midPntr] >= element):\n",
      "            return rtd_srtd( arr, element, lowPntr, midPntr-1 )\n",
      "        # else search the right half\n",
      "        else:\n",
      "            return rtd_srtd( arr, element, midPntr + 1, highPntr )\n",
      "    # if the right half is sorted\n",
      "    else:\n",
      "        if ( arr[ midPntr ] <= element ) and ( arr[highPntr] >= element ):\n",
      "            return rtd_srtd( arr, element, midPntr + 1, highPntr )\n",
      "        else:\n",
      "            return rtd_srtd( arr, element, lowPntr, midPntr-1 )\n",
      "\n",
      "\n",
      "# Test cases\n",
      "arr1 = [ 3, 4, 5, 1, 2 ]\n",
      "arr2 = [ 3, 4, 5, 6, 7, 1, 2 ]\n",
      "arr3 = [ 6, 7, 1, 2, 3, 4, 5 ]\n",
      "print rtd_srtd( arr1, 5, 0, len(arr1)-1 )\n",
      "print rtd_srtd( arr1, 2, 0, len(arr1)-1 )\n",
      "print rtd_srtd( arr2, 5, 0, len(arr2)-1 )\n",
      "print rtd_srtd( arr3, 4, 0, len(arr3)-1 )"
     ],
     "language": "python",
     "metadata": {},
     "outputs": [
      {
       "output_type": "stream",
       "stream": "stdout",
       "text": [
        "(5, 2)\n",
        "(2, 4)\n",
        "(5, 2)\n",
        "(4, 5)\n"
       ]
      }
     ],
     "prompt_number": 1
    },
    {
     "cell_type": "markdown",
     "metadata": {},
     "source": [
      "> Another variation to the above question would be to find the rotation in the sorted and rotated array.\n",
      ">> For the input array [ 3, 4, 5, 1, 2 ], the rotation is 3 ( the index of element 1 ).\n",
      "\n",
      "> Source : second half of the question on leetcode (http://leetcode.com/2010/04/searching-element-in-rotated-array.html)"
     ]
    },
    {
     "cell_type": "code",
     "collapsed": false,
     "input": [
      "def find_rotation( arr, lowPntr, highPntr ):\n",
      "    # Again like the prev question, this one can\n",
      "    # also be solved in O(logn) time with a binary\n",
      "    # search approach. The important property to note\n",
      "    # here is that at the point of rotation, the element\n",
      "    # is always less than the previous element. For example\n",
      "    # in the array [ 3, 4, 5, 1, 2 ], the point of rotation\n",
      "    # is at element 1 and note that it is less than the prev\n",
      "    # element ( in this case 5 ).\n",
      "    # base cases for recursion\n",
      "    if lowPntr >= highPntr:\n",
      "        return None\n",
      "    midPntr = ( lowPntr + highPntr )/2\n",
      "    if arr[midPntr] < arr[midPntr-1]:\n",
      "        return arr[midPntr], midPntr\n",
      "    if arr[midPntr] > arr[midPntr+1]:\n",
      "        return arr[midPntr+1], midPntr + 1\n",
      "    # Now check if the rotation point is in the left\n",
      "    # half or in the right half and recurse on that\n",
      "    # half of the array\n",
      "    if arr[lowPntr] <= arr[midPntr]:\n",
      "        return find_rotation( arr, midPntr+1, highPntr )\n",
      "    else:\n",
      "        return find_rotation( arr, lowPntr, midPntr-1 )\n",
      "        \n",
      "# Test cases\n",
      "arr1 = [ 3, 4, 5, 1, 2 ]\n",
      "arr2 = [ 3, 4, 5, 6, 7, 1, 2 ]\n",
      "arr3 = [ 6, 7, 1, 2, 3, 4, 5 ]\n",
      "arr4 = [ 1, 2, 3, 4, 5 ]\n",
      "print find_rotation( arr1, 0, len(arr1)-1 )\n",
      "print find_rotation( arr2, 0, len(arr2)-1 )\n",
      "print find_rotation( arr3, 0, len(arr3)-1 )\n",
      "print find_rotation( arr4, 0, len(arr4)-1 )"
     ],
     "language": "python",
     "metadata": {},
     "outputs": [
      {
       "output_type": "stream",
       "stream": "stdout",
       "text": [
        "(1, 3)\n",
        "(1, 5)\n",
        "(1, 2)\n",
        "None\n"
       ]
      }
     ],
     "prompt_number": 15
    }
   ],
   "metadata": {}
  }
 ]
}